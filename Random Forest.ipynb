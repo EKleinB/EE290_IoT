{
 "cells": [
  {
   "cell_type": "markdown",
   "metadata": {},
   "source": [
    "# Using Random Forest"
   ]
  },
  {
   "cell_type": "code",
   "execution_count": 36,
   "metadata": {},
   "outputs": [],
   "source": [
    "import numpy as np\n",
    "import matplotlib.pyplot as plt\n",
    "import pandas as pd\n",
    "from sklearn.preprocessing import StandardScaler\n",
    "from sklearn.ensemble import RandomForestRegressor"
   ]
  },
  {
   "cell_type": "markdown",
   "metadata": {},
   "source": [
    "##### Define Functions"
   ]
  },
  {
   "cell_type": "code",
   "execution_count": 37,
   "metadata": {},
   "outputs": [],
   "source": [
    "def RandomForest(X_train, X_test, Y1_train, Y2_train,N_estimator):\n",
    "    \n",
    "    regressor = RandomForestRegressor(n_estimators = N_estimator, random_state = 0)\n",
    "    regressor.fit(X_train, Y1_train)\n",
    "    y1_pred = regressor.predict(X_test)\n",
    "    regressor.fit(X_train, Y2_train)\n",
    "    y2_pred = regressor.predict(X_test)\n",
    "    \n",
    "    return y1_pred, y2_pred\n",
    "\n",
    "def separateData(dataset, testset):\n",
    "    dataset = dataset[[\"RSSI A\", \"RSSI B\", \"RSSI C\",\"x\",\"y\"]]\n",
    "    testset = testset[[\"RSSI A\", \"RSSI B\", \"RSSI C\",\"x\",\"y\"]]\n",
    "\n",
    "    X_train = dataset.iloc[:, :3]\n",
    "    X_train = X_train.values\n",
    "    \n",
    "    X_test = testset.iloc[:, :3]\n",
    "    X_test = X_test.values\n",
    "    \n",
    "    Y1_train = dataset['x']\n",
    "    Y1_train = Y1_train.values.reshape(-1,1)\n",
    "    \n",
    "    Y2_train = dataset['y']\n",
    "    Y2_train = Y2_train.values.reshape(-1,1)   \n",
    "    \n",
    "    Y1_test = testset['x']\n",
    "    Y1_test = Y1_test.values.reshape(-1,1)\n",
    "    \n",
    "    Y2_test = testset['y']\n",
    "    Y2_test = Y2_test.values.reshape(-1,1)\n",
    "    \n",
    "    return X_train, X_test, Y1_train, Y2_train, Y1_test, Y2_test\n",
    "\n",
    "def error(x_calc, x_real, y_calc, y_real):\n",
    "    x = ( (x_calc[i] - x_real[i]) ** 2 + (y_calc[i] - y_real[i]) ** 2 ) ** 0.5        \n",
    "    return x\n",
    "\n",
    "def Average(lst):\n",
    "    return sum(lst) / len(lst)\n",
    "\n",
    "# For hyperparameter Tuning\n",
    "def error1(x_calc, x_real, y_calc, y_real):\n",
    "    x = ( (x_calc - x_real) ** 2 + (y_calc - y_real) ** 2 ) ** 0.5   \n",
    "    return x\n",
    "def geterror(y1_pred,Y1_test,y2_pred,Y2_test):\n",
    "    lenght = list(range(0,len(Y1_test)))\n",
    "    x_vec_0 = []\n",
    "    for i in lenght:\n",
    "        x_vec_0.append(error1(y1_pred[i],Y1_test[i],y2_pred[i],Y2_test[i])[0])  \n",
    "    arr = np.asarray(x_vec_0)\n",
    "    average_0 = sum(arr)/len(arr)\n",
    "    return average_0"
   ]
  },
  {
   "cell_type": "markdown",
   "metadata": {},
   "source": [
    "## Scenario 1"
   ]
  },
  {
   "cell_type": "code",
   "execution_count": 38,
   "metadata": {},
   "outputs": [],
   "source": [
    "#read dataset for scenario 1\n",
    "df_BLE = pd.read_csv('BLE_scenario1.csv')\n",
    "df_Zigbee = pd.read_csv('Zigbee_scenario1.csv')\n",
    "df_WiFi = pd.read_csv('WiFi_scenario1.csv')"
   ]
  },
  {
   "cell_type": "code",
   "execution_count": 39,
   "metadata": {},
   "outputs": [],
   "source": [
    "# TO SPLIT THE WHOLE DATASET INTO TRAINING DATASET AND TESTING DATASET\n",
    "from sklearn.model_selection import train_test_split\n",
    "BLE_dataset,BLE_testset = train_test_split(df_BLE, test_size = 0.2, train_size = 0.8, random_state=0)\n",
    "Zigbee_dataset,Zigbee_testset = train_test_split(df_Zigbee, test_size = 0.2, train_size = 0.8, random_state=0)\n",
    "WiFi_dataset,WiFi_testset = train_test_split(df_WiFi, test_size = 0.2, train_size = 0.8, random_state=0)"
   ]
  },
  {
   "cell_type": "markdown",
   "metadata": {},
   "source": [
    "### BLE Technology"
   ]
  },
  {
   "cell_type": "code",
   "execution_count": 40,
   "metadata": {},
   "outputs": [],
   "source": [
    "X_train, X_test, Y1_train, Y2_train, Y1_test, Y2_test = separateData(BLE_dataset,BLE_testset)"
   ]
  },
  {
   "cell_type": "markdown",
   "metadata": {},
   "source": [
    "#### N estimator = 10"
   ]
  },
  {
   "cell_type": "code",
   "execution_count": 41,
   "metadata": {},
   "outputs": [
    {
     "name": "stdout",
     "output_type": "stream",
     "text": [
      "Error =  [1.29545589]\n"
     ]
    },
    {
     "name": "stderr",
     "output_type": "stream",
     "text": [
      "C:\\Users\\kenshi410\\anaconda3\\lib\\site-packages\\ipykernel_launcher.py:4: DataConversionWarning: A column-vector y was passed when a 1d array was expected. Please change the shape of y to (n_samples,), for example using ravel().\n",
      "  after removing the cwd from sys.path.\n",
      "C:\\Users\\kenshi410\\anaconda3\\lib\\site-packages\\ipykernel_launcher.py:6: DataConversionWarning: A column-vector y was passed when a 1d array was expected. Please change the shape of y to (n_samples,), for example using ravel().\n",
      "  \n"
     ]
    }
   ],
   "source": [
    "y1_pred, y2_pred = RandomForest(X_train, X_test, Y1_train, Y2_train,10)\n",
    "\n",
    "lenght = list(range(0,12))\n",
    "x_vec_0 = []\n",
    "for i in lenght:\n",
    "    x = error(y1_pred,Y1_test,y2_pred,Y2_test)\n",
    "    x_vec_0.append(x)    \n",
    "average_0 = Average(x_vec_0)\n",
    "print('Error = ', average_0)"
   ]
  },
  {
   "cell_type": "markdown",
   "metadata": {},
   "source": [
    "###### Find best n estimator"
   ]
  },
  {
   "cell_type": "code",
   "execution_count": 42,
   "metadata": {},
   "outputs": [
    {
     "name": "stderr",
     "output_type": "stream",
     "text": [
      "C:\\Users\\kenshi410\\anaconda3\\lib\\site-packages\\ipykernel_launcher.py:4: DataConversionWarning: A column-vector y was passed when a 1d array was expected. Please change the shape of y to (n_samples,), for example using ravel().\n",
      "  after removing the cwd from sys.path.\n",
      "C:\\Users\\kenshi410\\anaconda3\\lib\\site-packages\\ipykernel_launcher.py:6: DataConversionWarning: A column-vector y was passed when a 1d array was expected. Please change the shape of y to (n_samples,), for example using ravel().\n",
      "  \n",
      "C:\\Users\\kenshi410\\anaconda3\\lib\\site-packages\\ipykernel_launcher.py:4: DataConversionWarning: A column-vector y was passed when a 1d array was expected. Please change the shape of y to (n_samples,), for example using ravel().\n",
      "  after removing the cwd from sys.path.\n",
      "C:\\Users\\kenshi410\\anaconda3\\lib\\site-packages\\ipykernel_launcher.py:6: DataConversionWarning: A column-vector y was passed when a 1d array was expected. Please change the shape of y to (n_samples,), for example using ravel().\n",
      "  \n"
     ]
    },
    {
     "name": "stdout",
     "output_type": "stream",
     "text": [
      "N Estimator = 10    MSE =  1.29545588832831\n",
      "N Estimator = 100    MSE =  1.27675079735464\n"
     ]
    },
    {
     "name": "stderr",
     "output_type": "stream",
     "text": [
      "C:\\Users\\kenshi410\\anaconda3\\lib\\site-packages\\ipykernel_launcher.py:4: DataConversionWarning: A column-vector y was passed when a 1d array was expected. Please change the shape of y to (n_samples,), for example using ravel().\n",
      "  after removing the cwd from sys.path.\n",
      "C:\\Users\\kenshi410\\anaconda3\\lib\\site-packages\\ipykernel_launcher.py:6: DataConversionWarning: A column-vector y was passed when a 1d array was expected. Please change the shape of y to (n_samples,), for example using ravel().\n",
      "  \n"
     ]
    },
    {
     "name": "stdout",
     "output_type": "stream",
     "text": [
      "N Estimator = 1000    MSE =  1.3086242854623693\n",
      "Best N Estimator for BLE =  100\n"
     ]
    }
   ],
   "source": [
    "av = []\n",
    "# create vector for N Estimators\n",
    "n_est = [10, 100, 1000]\n",
    "for i in n_est:\n",
    "    y1_pred, y2_pred = RandomForest(X_train, X_test, Y1_train, Y2_train,i)\n",
    "    ave = geterror(y1_pred,Y1_test,y2_pred,Y2_test)\n",
    "    print('N Estimator =', i, \"   MSE = \", ave)\n",
    "    av.append(ave)\n",
    "print(\"Best N Estimator for BLE = \", n_est[av.index(min(av))])"
   ]
  },
  {
   "cell_type": "markdown",
   "metadata": {},
   "source": [
    "### Zigbee Technology"
   ]
  },
  {
   "cell_type": "code",
   "execution_count": 43,
   "metadata": {},
   "outputs": [],
   "source": [
    "X_train, X_test, Y1_train, Y2_train, Y1_test, Y2_test = separateData(Zigbee_dataset,Zigbee_testset)"
   ]
  },
  {
   "cell_type": "markdown",
   "metadata": {},
   "source": [
    "#### N estimator = 10"
   ]
  },
  {
   "cell_type": "code",
   "execution_count": 44,
   "metadata": {},
   "outputs": [
    {
     "name": "stdout",
     "output_type": "stream",
     "text": [
      "Error =  [1.47354621]\n"
     ]
    },
    {
     "name": "stderr",
     "output_type": "stream",
     "text": [
      "C:\\Users\\kenshi410\\anaconda3\\lib\\site-packages\\ipykernel_launcher.py:4: DataConversionWarning: A column-vector y was passed when a 1d array was expected. Please change the shape of y to (n_samples,), for example using ravel().\n",
      "  after removing the cwd from sys.path.\n",
      "C:\\Users\\kenshi410\\anaconda3\\lib\\site-packages\\ipykernel_launcher.py:6: DataConversionWarning: A column-vector y was passed when a 1d array was expected. Please change the shape of y to (n_samples,), for example using ravel().\n",
      "  \n"
     ]
    }
   ],
   "source": [
    "y1_pred, y2_pred = RandomForest(X_train, X_test, Y1_train, Y2_train,10)\n",
    "x_vec_1 = []\n",
    "for i in lenght:\n",
    "    x = error(y1_pred,Y1_test,y2_pred,Y2_test)\n",
    "    x_vec_1.append(x)\n",
    "average_1 = Average(x_vec_1)\n",
    "print('Error = ', average_1)"
   ]
  },
  {
   "cell_type": "markdown",
   "metadata": {},
   "source": [
    "###### Find best n estimator"
   ]
  },
  {
   "cell_type": "code",
   "execution_count": 45,
   "metadata": {},
   "outputs": [
    {
     "name": "stderr",
     "output_type": "stream",
     "text": [
      "C:\\Users\\kenshi410\\anaconda3\\lib\\site-packages\\ipykernel_launcher.py:4: DataConversionWarning: A column-vector y was passed when a 1d array was expected. Please change the shape of y to (n_samples,), for example using ravel().\n",
      "  after removing the cwd from sys.path.\n",
      "C:\\Users\\kenshi410\\anaconda3\\lib\\site-packages\\ipykernel_launcher.py:6: DataConversionWarning: A column-vector y was passed when a 1d array was expected. Please change the shape of y to (n_samples,), for example using ravel().\n",
      "  \n",
      "C:\\Users\\kenshi410\\anaconda3\\lib\\site-packages\\ipykernel_launcher.py:4: DataConversionWarning: A column-vector y was passed when a 1d array was expected. Please change the shape of y to (n_samples,), for example using ravel().\n",
      "  after removing the cwd from sys.path.\n",
      "C:\\Users\\kenshi410\\anaconda3\\lib\\site-packages\\ipykernel_launcher.py:6: DataConversionWarning: A column-vector y was passed when a 1d array was expected. Please change the shape of y to (n_samples,), for example using ravel().\n",
      "  \n"
     ]
    },
    {
     "name": "stdout",
     "output_type": "stream",
     "text": [
      "N Estimator = 10    MSE =  1.473546206831793\n",
      "N Estimator = 100    MSE =  1.458823134426608\n"
     ]
    },
    {
     "name": "stderr",
     "output_type": "stream",
     "text": [
      "C:\\Users\\kenshi410\\anaconda3\\lib\\site-packages\\ipykernel_launcher.py:4: DataConversionWarning: A column-vector y was passed when a 1d array was expected. Please change the shape of y to (n_samples,), for example using ravel().\n",
      "  after removing the cwd from sys.path.\n",
      "C:\\Users\\kenshi410\\anaconda3\\lib\\site-packages\\ipykernel_launcher.py:6: DataConversionWarning: A column-vector y was passed when a 1d array was expected. Please change the shape of y to (n_samples,), for example using ravel().\n",
      "  \n"
     ]
    },
    {
     "name": "stdout",
     "output_type": "stream",
     "text": [
      "N Estimator = 1000    MSE =  1.423204481840889\n",
      "Best N Estimator for Zigbee =  1000\n"
     ]
    }
   ],
   "source": [
    "av = []\n",
    "# create vector for N Estimators\n",
    "n_est = [10, 100, 1000]\n",
    "for i in n_est:\n",
    "    y1_pred, y2_pred = RandomForest(X_train, X_test, Y1_train, Y2_train,i)\n",
    "    ave = geterror(y1_pred,Y1_test,y2_pred,Y2_test)\n",
    "    print('N Estimator =', i, \"   MSE = \", ave)\n",
    "    av.append(ave)\n",
    "print(\"Best N Estimator for Zigbee = \", n_est[av.index(min(av))])"
   ]
  },
  {
   "cell_type": "markdown",
   "metadata": {},
   "source": [
    "### WiFi Technology"
   ]
  },
  {
   "cell_type": "code",
   "execution_count": 46,
   "metadata": {},
   "outputs": [],
   "source": [
    "X_train, X_test, Y1_train, Y2_train, Y1_test, Y2_test = separateData(WiFi_dataset,WiFi_testset)"
   ]
  },
  {
   "cell_type": "markdown",
   "metadata": {},
   "source": [
    "#### N estimator = 10"
   ]
  },
  {
   "cell_type": "code",
   "execution_count": 47,
   "metadata": {},
   "outputs": [
    {
     "name": "stdout",
     "output_type": "stream",
     "text": [
      "Error =  [1.21781658]\n"
     ]
    },
    {
     "name": "stderr",
     "output_type": "stream",
     "text": [
      "C:\\Users\\kenshi410\\anaconda3\\lib\\site-packages\\ipykernel_launcher.py:4: DataConversionWarning: A column-vector y was passed when a 1d array was expected. Please change the shape of y to (n_samples,), for example using ravel().\n",
      "  after removing the cwd from sys.path.\n",
      "C:\\Users\\kenshi410\\anaconda3\\lib\\site-packages\\ipykernel_launcher.py:6: DataConversionWarning: A column-vector y was passed when a 1d array was expected. Please change the shape of y to (n_samples,), for example using ravel().\n",
      "  \n"
     ]
    }
   ],
   "source": [
    "y1_pred, y2_pred = RandomForest(X_train, X_test, Y1_train, Y2_train,10)\n",
    "x_vec_1 = []\n",
    "for i in lenght:\n",
    "    x = error(y1_pred,Y1_test,y2_pred,Y2_test)\n",
    "    x_vec_1.append(x)\n",
    "average_1 = Average(x_vec_1)\n",
    "print('Error = ', average_1)"
   ]
  },
  {
   "cell_type": "markdown",
   "metadata": {},
   "source": [
    "###### Find best n estimator"
   ]
  },
  {
   "cell_type": "code",
   "execution_count": 48,
   "metadata": {},
   "outputs": [
    {
     "name": "stderr",
     "output_type": "stream",
     "text": [
      "C:\\Users\\kenshi410\\anaconda3\\lib\\site-packages\\ipykernel_launcher.py:4: DataConversionWarning: A column-vector y was passed when a 1d array was expected. Please change the shape of y to (n_samples,), for example using ravel().\n",
      "  after removing the cwd from sys.path.\n",
      "C:\\Users\\kenshi410\\anaconda3\\lib\\site-packages\\ipykernel_launcher.py:6: DataConversionWarning: A column-vector y was passed when a 1d array was expected. Please change the shape of y to (n_samples,), for example using ravel().\n",
      "  \n",
      "C:\\Users\\kenshi410\\anaconda3\\lib\\site-packages\\ipykernel_launcher.py:4: DataConversionWarning: A column-vector y was passed when a 1d array was expected. Please change the shape of y to (n_samples,), for example using ravel().\n",
      "  after removing the cwd from sys.path.\n",
      "C:\\Users\\kenshi410\\anaconda3\\lib\\site-packages\\ipykernel_launcher.py:6: DataConversionWarning: A column-vector y was passed when a 1d array was expected. Please change the shape of y to (n_samples,), for example using ravel().\n",
      "  \n",
      "C:\\Users\\kenshi410\\anaconda3\\lib\\site-packages\\ipykernel_launcher.py:4: DataConversionWarning: A column-vector y was passed when a 1d array was expected. Please change the shape of y to (n_samples,), for example using ravel().\n",
      "  after removing the cwd from sys.path.\n"
     ]
    },
    {
     "name": "stdout",
     "output_type": "stream",
     "text": [
      "N Estimator = 10    MSE =  1.2178165800442013\n",
      "N Estimator = 100    MSE =  1.395232180630355\n"
     ]
    },
    {
     "name": "stderr",
     "output_type": "stream",
     "text": [
      "C:\\Users\\kenshi410\\anaconda3\\lib\\site-packages\\ipykernel_launcher.py:6: DataConversionWarning: A column-vector y was passed when a 1d array was expected. Please change the shape of y to (n_samples,), for example using ravel().\n",
      "  \n"
     ]
    },
    {
     "name": "stdout",
     "output_type": "stream",
     "text": [
      "N Estimator = 1000    MSE =  1.4284434539204847\n",
      "Best N Estimator for WiFi =  10\n"
     ]
    }
   ],
   "source": [
    "av = []\n",
    "# create vector for N Estimators\n",
    "n_est = [10, 100, 1000]\n",
    "for i in n_est:\n",
    "    y1_pred, y2_pred = RandomForest(X_train, X_test, Y1_train, Y2_train,i)\n",
    "    ave = geterror(y1_pred,Y1_test,y2_pred,Y2_test)\n",
    "    print('N Estimator =', i, \"   MSE = \", ave)\n",
    "    av.append(ave)\n",
    "print(\"Best N Estimator for WiFi = \", n_est[av.index(min(av))])"
   ]
  },
  {
   "cell_type": "markdown",
   "metadata": {},
   "source": [
    "## Scenario 2"
   ]
  },
  {
   "cell_type": "code",
   "execution_count": 49,
   "metadata": {},
   "outputs": [],
   "source": [
    "#read dataset for scenario 2\n",
    "df_BLE = pd.read_csv('BLE_scenario2.csv')\n",
    "df_Zigbee = pd.read_csv('Zigbee_scenario2.csv')\n",
    "df_WiFi = pd.read_csv('WiFi_scenario2.csv')"
   ]
  },
  {
   "cell_type": "code",
   "execution_count": 50,
   "metadata": {},
   "outputs": [],
   "source": [
    "# TO SPLIT THE WHOLE DATASET INTO TRAINING DATASET AND TESTING DATASET\n",
    "from sklearn.model_selection import train_test_split\n",
    "BLE_dataset,BLE_testset = train_test_split(df_BLE, test_size = 0.2, train_size = 0.8, random_state=0)\n",
    "Zigbee_dataset,Zigbee_testset = train_test_split(df_Zigbee, test_size = 0.2, train_size = 0.8, random_state=0)\n",
    "WiFi_dataset,WiFi_testset = train_test_split(df_WiFi, test_size = 0.2, train_size = 0.8, random_state=0)"
   ]
  },
  {
   "cell_type": "markdown",
   "metadata": {},
   "source": [
    "### BLE Technology"
   ]
  },
  {
   "cell_type": "code",
   "execution_count": 51,
   "metadata": {},
   "outputs": [],
   "source": [
    "X_train, X_test, Y1_train, Y2_train, Y1_test, Y2_test = separateData(BLE_dataset,BLE_testset)"
   ]
  },
  {
   "cell_type": "markdown",
   "metadata": {},
   "source": [
    "#### N estimator = 10"
   ]
  },
  {
   "cell_type": "code",
   "execution_count": 52,
   "metadata": {},
   "outputs": [
    {
     "name": "stdout",
     "output_type": "stream",
     "text": [
      "Error =  [1.31677379]\n"
     ]
    },
    {
     "name": "stderr",
     "output_type": "stream",
     "text": [
      "C:\\Users\\kenshi410\\anaconda3\\lib\\site-packages\\ipykernel_launcher.py:4: DataConversionWarning: A column-vector y was passed when a 1d array was expected. Please change the shape of y to (n_samples,), for example using ravel().\n",
      "  after removing the cwd from sys.path.\n",
      "C:\\Users\\kenshi410\\anaconda3\\lib\\site-packages\\ipykernel_launcher.py:6: DataConversionWarning: A column-vector y was passed when a 1d array was expected. Please change the shape of y to (n_samples,), for example using ravel().\n",
      "  \n"
     ]
    }
   ],
   "source": [
    "y1_pred, y2_pred = RandomForest(X_train, X_test, Y1_train, Y2_train,10)\n",
    "lenght = list(range(0,len(X_test)))\n",
    "x_vec_1 = []\n",
    "for i in lenght:\n",
    "    x = error(y1_pred,Y1_test,y2_pred,Y2_test)\n",
    "    x_vec_1.append(x)\n",
    "average_1 = Average(x_vec_1)\n",
    "print('Error = ', average_1)"
   ]
  },
  {
   "cell_type": "markdown",
   "metadata": {},
   "source": [
    "###### Find best n estimator"
   ]
  },
  {
   "cell_type": "code",
   "execution_count": 53,
   "metadata": {},
   "outputs": [
    {
     "name": "stderr",
     "output_type": "stream",
     "text": [
      "C:\\Users\\kenshi410\\anaconda3\\lib\\site-packages\\ipykernel_launcher.py:4: DataConversionWarning: A column-vector y was passed when a 1d array was expected. Please change the shape of y to (n_samples,), for example using ravel().\n",
      "  after removing the cwd from sys.path.\n",
      "C:\\Users\\kenshi410\\anaconda3\\lib\\site-packages\\ipykernel_launcher.py:6: DataConversionWarning: A column-vector y was passed when a 1d array was expected. Please change the shape of y to (n_samples,), for example using ravel().\n",
      "  \n",
      "C:\\Users\\kenshi410\\anaconda3\\lib\\site-packages\\ipykernel_launcher.py:4: DataConversionWarning: A column-vector y was passed when a 1d array was expected. Please change the shape of y to (n_samples,), for example using ravel().\n",
      "  after removing the cwd from sys.path.\n",
      "C:\\Users\\kenshi410\\anaconda3\\lib\\site-packages\\ipykernel_launcher.py:6: DataConversionWarning: A column-vector y was passed when a 1d array was expected. Please change the shape of y to (n_samples,), for example using ravel().\n",
      "  \n"
     ]
    },
    {
     "name": "stdout",
     "output_type": "stream",
     "text": [
      "N Estimator = 10    MSE =  1.316773791594861\n",
      "N Estimator = 100    MSE =  1.4193948054968453\n"
     ]
    },
    {
     "name": "stderr",
     "output_type": "stream",
     "text": [
      "C:\\Users\\kenshi410\\anaconda3\\lib\\site-packages\\ipykernel_launcher.py:4: DataConversionWarning: A column-vector y was passed when a 1d array was expected. Please change the shape of y to (n_samples,), for example using ravel().\n",
      "  after removing the cwd from sys.path.\n",
      "C:\\Users\\kenshi410\\anaconda3\\lib\\site-packages\\ipykernel_launcher.py:6: DataConversionWarning: A column-vector y was passed when a 1d array was expected. Please change the shape of y to (n_samples,), for example using ravel().\n",
      "  \n"
     ]
    },
    {
     "name": "stdout",
     "output_type": "stream",
     "text": [
      "N Estimator = 1000    MSE =  1.4292941879432235\n",
      "Best N Estimator for BLE =  10\n"
     ]
    }
   ],
   "source": [
    "av = []\n",
    "# create vector for N Estimators\n",
    "n_est = [10, 100, 1000]\n",
    "for i in n_est:\n",
    "    y1_pred, y2_pred = RandomForest(X_train, X_test, Y1_train, Y2_train,i)\n",
    "    ave = geterror(y1_pred,Y1_test,y2_pred,Y2_test)\n",
    "    print('N Estimator =', i, \"   MSE = \", ave)\n",
    "    av.append(ave)\n",
    "print(\"Best N Estimator for BLE = \", n_est[av.index(min(av))])"
   ]
  },
  {
   "cell_type": "markdown",
   "metadata": {},
   "source": [
    "### Zigbee Technology"
   ]
  },
  {
   "cell_type": "code",
   "execution_count": 54,
   "metadata": {},
   "outputs": [],
   "source": [
    "X_train, X_test, Y1_train, Y2_train, Y1_test, Y2_test = separateData(Zigbee_dataset,Zigbee_testset)"
   ]
  },
  {
   "cell_type": "markdown",
   "metadata": {},
   "source": [
    "#### N estimator = 10"
   ]
  },
  {
   "cell_type": "code",
   "execution_count": 55,
   "metadata": {},
   "outputs": [
    {
     "name": "stdout",
     "output_type": "stream",
     "text": [
      "Error =  [1.79746561]\n"
     ]
    },
    {
     "name": "stderr",
     "output_type": "stream",
     "text": [
      "C:\\Users\\kenshi410\\anaconda3\\lib\\site-packages\\ipykernel_launcher.py:4: DataConversionWarning: A column-vector y was passed when a 1d array was expected. Please change the shape of y to (n_samples,), for example using ravel().\n",
      "  after removing the cwd from sys.path.\n",
      "C:\\Users\\kenshi410\\anaconda3\\lib\\site-packages\\ipykernel_launcher.py:6: DataConversionWarning: A column-vector y was passed when a 1d array was expected. Please change the shape of y to (n_samples,), for example using ravel().\n",
      "  \n"
     ]
    }
   ],
   "source": [
    "y1_pred, y2_pred = RandomForest(X_train, X_test, Y1_train, Y2_train,10)\n",
    "lenght = list(range(0,len(X_test)))\n",
    "x_vec_1 = []\n",
    "for i in lenght:\n",
    "    x = error(y1_pred,Y1_test,y2_pred,Y2_test)\n",
    "    x_vec_1.append(x)\n",
    "average_1 = Average(x_vec_1)\n",
    "print('Error = ', average_1)"
   ]
  },
  {
   "cell_type": "markdown",
   "metadata": {},
   "source": [
    "###### Find best n estimator"
   ]
  },
  {
   "cell_type": "code",
   "execution_count": 56,
   "metadata": {},
   "outputs": [
    {
     "name": "stderr",
     "output_type": "stream",
     "text": [
      "C:\\Users\\kenshi410\\anaconda3\\lib\\site-packages\\ipykernel_launcher.py:4: DataConversionWarning: A column-vector y was passed when a 1d array was expected. Please change the shape of y to (n_samples,), for example using ravel().\n",
      "  after removing the cwd from sys.path.\n",
      "C:\\Users\\kenshi410\\anaconda3\\lib\\site-packages\\ipykernel_launcher.py:6: DataConversionWarning: A column-vector y was passed when a 1d array was expected. Please change the shape of y to (n_samples,), for example using ravel().\n",
      "  \n",
      "C:\\Users\\kenshi410\\anaconda3\\lib\\site-packages\\ipykernel_launcher.py:4: DataConversionWarning: A column-vector y was passed when a 1d array was expected. Please change the shape of y to (n_samples,), for example using ravel().\n",
      "  after removing the cwd from sys.path.\n",
      "C:\\Users\\kenshi410\\anaconda3\\lib\\site-packages\\ipykernel_launcher.py:6: DataConversionWarning: A column-vector y was passed when a 1d array was expected. Please change the shape of y to (n_samples,), for example using ravel().\n",
      "  \n",
      "C:\\Users\\kenshi410\\anaconda3\\lib\\site-packages\\ipykernel_launcher.py:4: DataConversionWarning: A column-vector y was passed when a 1d array was expected. Please change the shape of y to (n_samples,), for example using ravel().\n",
      "  after removing the cwd from sys.path.\n"
     ]
    },
    {
     "name": "stdout",
     "output_type": "stream",
     "text": [
      "N Estimator = 10    MSE =  1.7974656141333796\n",
      "N Estimator = 100    MSE =  1.7742957077712032\n"
     ]
    },
    {
     "name": "stderr",
     "output_type": "stream",
     "text": [
      "C:\\Users\\kenshi410\\anaconda3\\lib\\site-packages\\ipykernel_launcher.py:6: DataConversionWarning: A column-vector y was passed when a 1d array was expected. Please change the shape of y to (n_samples,), for example using ravel().\n",
      "  \n"
     ]
    },
    {
     "name": "stdout",
     "output_type": "stream",
     "text": [
      "N Estimator = 1000    MSE =  1.7505934028896704\n",
      "Best N Estimator for Zigbee =  1000\n"
     ]
    }
   ],
   "source": [
    "av = []\n",
    "# create vector for N Estimators\n",
    "n_est = [10, 100, 1000]\n",
    "for i in n_est:\n",
    "    y1_pred, y2_pred = RandomForest(X_train, X_test, Y1_train, Y2_train,i)\n",
    "    ave = geterror(y1_pred,Y1_test,y2_pred,Y2_test)\n",
    "    print('N Estimator =', i, \"   MSE = \", ave)\n",
    "    av.append(ave)\n",
    "print(\"Best N Estimator for Zigbee = \", n_est[av.index(min(av))])"
   ]
  },
  {
   "cell_type": "markdown",
   "metadata": {},
   "source": [
    "### WiFi Technology"
   ]
  },
  {
   "cell_type": "code",
   "execution_count": 57,
   "metadata": {},
   "outputs": [],
   "source": [
    "X_train, X_test, Y1_train, Y2_train, Y1_test, Y2_test = separateData(WiFi_dataset,WiFi_testset)"
   ]
  },
  {
   "cell_type": "markdown",
   "metadata": {},
   "source": [
    "#### N estimator = 10"
   ]
  },
  {
   "cell_type": "code",
   "execution_count": 58,
   "metadata": {},
   "outputs": [
    {
     "name": "stdout",
     "output_type": "stream",
     "text": [
      "Error =  [1.52903403]\n"
     ]
    },
    {
     "name": "stderr",
     "output_type": "stream",
     "text": [
      "C:\\Users\\kenshi410\\anaconda3\\lib\\site-packages\\ipykernel_launcher.py:4: DataConversionWarning: A column-vector y was passed when a 1d array was expected. Please change the shape of y to (n_samples,), for example using ravel().\n",
      "  after removing the cwd from sys.path.\n",
      "C:\\Users\\kenshi410\\anaconda3\\lib\\site-packages\\ipykernel_launcher.py:6: DataConversionWarning: A column-vector y was passed when a 1d array was expected. Please change the shape of y to (n_samples,), for example using ravel().\n",
      "  \n"
     ]
    }
   ],
   "source": [
    "y1_pred, y2_pred = RandomForest(X_train, X_test, Y1_train, Y2_train,10)\n",
    "lenght = list(range(0,len(X_test)))\n",
    "x_vec_1 = []\n",
    "for i in lenght:\n",
    "    x = error(y1_pred,Y1_test,y2_pred,Y2_test)\n",
    "    x_vec_1.append(x)\n",
    "average_1 = Average(x_vec_1)\n",
    "print('Error = ', average_1)"
   ]
  },
  {
   "cell_type": "markdown",
   "metadata": {},
   "source": [
    "###### Find best n estimator"
   ]
  },
  {
   "cell_type": "code",
   "execution_count": 59,
   "metadata": {},
   "outputs": [
    {
     "name": "stdout",
     "output_type": "stream",
     "text": [
      "N Estimator = 10    MSE =  1.5290340254838024\n"
     ]
    },
    {
     "name": "stderr",
     "output_type": "stream",
     "text": [
      "C:\\Users\\kenshi410\\anaconda3\\lib\\site-packages\\ipykernel_launcher.py:4: DataConversionWarning: A column-vector y was passed when a 1d array was expected. Please change the shape of y to (n_samples,), for example using ravel().\n",
      "  after removing the cwd from sys.path.\n",
      "C:\\Users\\kenshi410\\anaconda3\\lib\\site-packages\\ipykernel_launcher.py:6: DataConversionWarning: A column-vector y was passed when a 1d array was expected. Please change the shape of y to (n_samples,), for example using ravel().\n",
      "  \n",
      "C:\\Users\\kenshi410\\anaconda3\\lib\\site-packages\\ipykernel_launcher.py:4: DataConversionWarning: A column-vector y was passed when a 1d array was expected. Please change the shape of y to (n_samples,), for example using ravel().\n",
      "  after removing the cwd from sys.path.\n",
      "C:\\Users\\kenshi410\\anaconda3\\lib\\site-packages\\ipykernel_launcher.py:6: DataConversionWarning: A column-vector y was passed when a 1d array was expected. Please change the shape of y to (n_samples,), for example using ravel().\n",
      "  \n"
     ]
    },
    {
     "name": "stdout",
     "output_type": "stream",
     "text": [
      "N Estimator = 100    MSE =  1.4086469437516613\n"
     ]
    },
    {
     "name": "stderr",
     "output_type": "stream",
     "text": [
      "C:\\Users\\kenshi410\\anaconda3\\lib\\site-packages\\ipykernel_launcher.py:4: DataConversionWarning: A column-vector y was passed when a 1d array was expected. Please change the shape of y to (n_samples,), for example using ravel().\n",
      "  after removing the cwd from sys.path.\n",
      "C:\\Users\\kenshi410\\anaconda3\\lib\\site-packages\\ipykernel_launcher.py:6: DataConversionWarning: A column-vector y was passed when a 1d array was expected. Please change the shape of y to (n_samples,), for example using ravel().\n",
      "  \n"
     ]
    },
    {
     "name": "stdout",
     "output_type": "stream",
     "text": [
      "N Estimator = 1000    MSE =  1.4204459824883005\n",
      "Best N Estimator for WiFi =  100\n"
     ]
    }
   ],
   "source": [
    "av = []\n",
    "# create vector for N Estimators\n",
    "n_est = [10, 100, 1000]\n",
    "for i in n_est:\n",
    "    y1_pred, y2_pred = RandomForest(X_train, X_test, Y1_train, Y2_train,i)\n",
    "    ave = geterror(y1_pred,Y1_test,y2_pred,Y2_test)\n",
    "    print('N Estimator =', i, \"   MSE = \", ave)\n",
    "    av.append(ave)\n",
    "print(\"Best N Estimator for WiFi = \", n_est[av.index(min(av))])"
   ]
  },
  {
   "cell_type": "markdown",
   "metadata": {},
   "source": [
    "## Scenario 3"
   ]
  },
  {
   "cell_type": "code",
   "execution_count": 60,
   "metadata": {},
   "outputs": [],
   "source": [
    "#read dataset for scenario 3\n",
    "df_BLE = pd.read_csv('BLE_scenario3.csv')\n",
    "df_Zigbee = pd.read_csv('Zigbee_scenario3.csv')\n",
    "df_WiFi = pd.read_csv('WiFi_scenario3.csv')"
   ]
  },
  {
   "cell_type": "code",
   "execution_count": 61,
   "metadata": {},
   "outputs": [],
   "source": [
    "# TO SPLIT THE WHOLE DATASET INTO TRAINING DATASET AND TESTING DATASET\n",
    "from sklearn.model_selection import train_test_split\n",
    "BLE_dataset,BLE_testset = train_test_split(df_BLE, test_size = 0.2, train_size = 0.8, random_state=0)\n",
    "Zigbee_dataset,Zigbee_testset = train_test_split(df_Zigbee, test_size = 0.2, train_size = 0.8, random_state=0)\n",
    "WiFi_dataset,WiFi_testset = train_test_split(df_WiFi, test_size = 0.2, train_size = 0.8, random_state=0)"
   ]
  },
  {
   "cell_type": "markdown",
   "metadata": {},
   "source": [
    "### BLE Technology"
   ]
  },
  {
   "cell_type": "code",
   "execution_count": 62,
   "metadata": {},
   "outputs": [],
   "source": [
    "X_train, X_test, Y1_train, Y2_train, Y1_test, Y2_test = separateData(BLE_dataset,BLE_testset)"
   ]
  },
  {
   "cell_type": "markdown",
   "metadata": {},
   "source": [
    "#### N estimator = 10"
   ]
  },
  {
   "cell_type": "code",
   "execution_count": 63,
   "metadata": {},
   "outputs": [
    {
     "name": "stdout",
     "output_type": "stream",
     "text": [
      "Error =  [1.30134769]\n"
     ]
    },
    {
     "name": "stderr",
     "output_type": "stream",
     "text": [
      "C:\\Users\\kenshi410\\anaconda3\\lib\\site-packages\\ipykernel_launcher.py:4: DataConversionWarning: A column-vector y was passed when a 1d array was expected. Please change the shape of y to (n_samples,), for example using ravel().\n",
      "  after removing the cwd from sys.path.\n",
      "C:\\Users\\kenshi410\\anaconda3\\lib\\site-packages\\ipykernel_launcher.py:6: DataConversionWarning: A column-vector y was passed when a 1d array was expected. Please change the shape of y to (n_samples,), for example using ravel().\n",
      "  \n"
     ]
    }
   ],
   "source": [
    "y1_pred, y2_pred = RandomForest(X_train, X_test, Y1_train, Y2_train,10)\n",
    "lenght = list(range(0,len(X_test)))\n",
    "x_vec_1 = []\n",
    "for i in lenght:\n",
    "    x = error(y1_pred,Y1_test,y2_pred,Y2_test)\n",
    "    x_vec_1.append(x)\n",
    "average_1 = Average(x_vec_1)\n",
    "print('Error = ', average_1)"
   ]
  },
  {
   "cell_type": "markdown",
   "metadata": {},
   "source": [
    "###### Find best n estimator"
   ]
  },
  {
   "cell_type": "code",
   "execution_count": 64,
   "metadata": {},
   "outputs": [
    {
     "name": "stdout",
     "output_type": "stream",
     "text": [
      "N Estimator = 10    RMSE =  1.3013476916305573\n"
     ]
    },
    {
     "name": "stderr",
     "output_type": "stream",
     "text": [
      "C:\\Users\\kenshi410\\anaconda3\\lib\\site-packages\\ipykernel_launcher.py:4: DataConversionWarning: A column-vector y was passed when a 1d array was expected. Please change the shape of y to (n_samples,), for example using ravel().\n",
      "  after removing the cwd from sys.path.\n",
      "C:\\Users\\kenshi410\\anaconda3\\lib\\site-packages\\ipykernel_launcher.py:6: DataConversionWarning: A column-vector y was passed when a 1d array was expected. Please change the shape of y to (n_samples,), for example using ravel().\n",
      "  \n",
      "C:\\Users\\kenshi410\\anaconda3\\lib\\site-packages\\ipykernel_launcher.py:4: DataConversionWarning: A column-vector y was passed when a 1d array was expected. Please change the shape of y to (n_samples,), for example using ravel().\n",
      "  after removing the cwd from sys.path.\n",
      "C:\\Users\\kenshi410\\anaconda3\\lib\\site-packages\\ipykernel_launcher.py:6: DataConversionWarning: A column-vector y was passed when a 1d array was expected. Please change the shape of y to (n_samples,), for example using ravel().\n",
      "  \n",
      "C:\\Users\\kenshi410\\anaconda3\\lib\\site-packages\\ipykernel_launcher.py:4: DataConversionWarning: A column-vector y was passed when a 1d array was expected. Please change the shape of y to (n_samples,), for example using ravel().\n",
      "  after removing the cwd from sys.path.\n"
     ]
    },
    {
     "name": "stdout",
     "output_type": "stream",
     "text": [
      "N Estimator = 100    RMSE =  1.6362650882373966\n"
     ]
    },
    {
     "name": "stderr",
     "output_type": "stream",
     "text": [
      "C:\\Users\\kenshi410\\anaconda3\\lib\\site-packages\\ipykernel_launcher.py:6: DataConversionWarning: A column-vector y was passed when a 1d array was expected. Please change the shape of y to (n_samples,), for example using ravel().\n",
      "  \n"
     ]
    },
    {
     "name": "stdout",
     "output_type": "stream",
     "text": [
      "N Estimator = 1000    RMSE =  1.734488485462718\n",
      "Best N Estimator for BLE =  10\n"
     ]
    }
   ],
   "source": [
    "av = []\n",
    "# create vector for N Estimators\n",
    "n_est = [10, 100, 1000]\n",
    "for i in n_est:\n",
    "    y1_pred, y2_pred = RandomForest(X_train, X_test, Y1_train, Y2_train,i)\n",
    "    ave = geterror(y1_pred,Y1_test,y2_pred,Y2_test)\n",
    "    print('N Estimator =', i, \"   RMSE = \", ave)\n",
    "    av.append(ave)\n",
    "print(\"Best N Estimator for BLE = \", n_est[av.index(min(av))])"
   ]
  },
  {
   "cell_type": "markdown",
   "metadata": {},
   "source": [
    "### Zigbee Technology"
   ]
  },
  {
   "cell_type": "code",
   "execution_count": 65,
   "metadata": {},
   "outputs": [],
   "source": [
    "X_train, X_test, Y1_train, Y2_train, Y1_test, Y2_test = separateData(Zigbee_dataset,Zigbee_testset)"
   ]
  },
  {
   "cell_type": "markdown",
   "metadata": {},
   "source": [
    "#### N estimator = 10"
   ]
  },
  {
   "cell_type": "code",
   "execution_count": 66,
   "metadata": {},
   "outputs": [
    {
     "name": "stdout",
     "output_type": "stream",
     "text": [
      "Error =  [2.25817331]\n"
     ]
    },
    {
     "name": "stderr",
     "output_type": "stream",
     "text": [
      "C:\\Users\\kenshi410\\anaconda3\\lib\\site-packages\\ipykernel_launcher.py:4: DataConversionWarning: A column-vector y was passed when a 1d array was expected. Please change the shape of y to (n_samples,), for example using ravel().\n",
      "  after removing the cwd from sys.path.\n",
      "C:\\Users\\kenshi410\\anaconda3\\lib\\site-packages\\ipykernel_launcher.py:6: DataConversionWarning: A column-vector y was passed when a 1d array was expected. Please change the shape of y to (n_samples,), for example using ravel().\n",
      "  \n"
     ]
    }
   ],
   "source": [
    "y1_pred, y2_pred = RandomForest(X_train, X_test, Y1_train, Y2_train,10)\n",
    "lenght = list(range(0,len(X_test)))\n",
    "x_vec_1 = []\n",
    "for i in lenght:\n",
    "    x = error(y1_pred,Y1_test,y2_pred,Y2_test)\n",
    "    x_vec_1.append(x)\n",
    "average_1 = Average(x_vec_1)\n",
    "print('Error = ', average_1)"
   ]
  },
  {
   "cell_type": "markdown",
   "metadata": {},
   "source": [
    "###### Find best n estimator"
   ]
  },
  {
   "cell_type": "code",
   "execution_count": 67,
   "metadata": {},
   "outputs": [
    {
     "name": "stderr",
     "output_type": "stream",
     "text": [
      "C:\\Users\\kenshi410\\anaconda3\\lib\\site-packages\\ipykernel_launcher.py:4: DataConversionWarning: A column-vector y was passed when a 1d array was expected. Please change the shape of y to (n_samples,), for example using ravel().\n",
      "  after removing the cwd from sys.path.\n",
      "C:\\Users\\kenshi410\\anaconda3\\lib\\site-packages\\ipykernel_launcher.py:6: DataConversionWarning: A column-vector y was passed when a 1d array was expected. Please change the shape of y to (n_samples,), for example using ravel().\n",
      "  \n",
      "C:\\Users\\kenshi410\\anaconda3\\lib\\site-packages\\ipykernel_launcher.py:4: DataConversionWarning: A column-vector y was passed when a 1d array was expected. Please change the shape of y to (n_samples,), for example using ravel().\n",
      "  after removing the cwd from sys.path.\n",
      "C:\\Users\\kenshi410\\anaconda3\\lib\\site-packages\\ipykernel_launcher.py:6: DataConversionWarning: A column-vector y was passed when a 1d array was expected. Please change the shape of y to (n_samples,), for example using ravel().\n",
      "  \n"
     ]
    },
    {
     "name": "stdout",
     "output_type": "stream",
     "text": [
      "N Estimator = 10    MSE =  2.2581733113786147\n",
      "N Estimator = 100    MSE =  1.8173776643692412\n"
     ]
    },
    {
     "name": "stderr",
     "output_type": "stream",
     "text": [
      "C:\\Users\\kenshi410\\anaconda3\\lib\\site-packages\\ipykernel_launcher.py:4: DataConversionWarning: A column-vector y was passed when a 1d array was expected. Please change the shape of y to (n_samples,), for example using ravel().\n",
      "  after removing the cwd from sys.path.\n",
      "C:\\Users\\kenshi410\\anaconda3\\lib\\site-packages\\ipykernel_launcher.py:6: DataConversionWarning: A column-vector y was passed when a 1d array was expected. Please change the shape of y to (n_samples,), for example using ravel().\n",
      "  \n"
     ]
    },
    {
     "name": "stdout",
     "output_type": "stream",
     "text": [
      "N Estimator = 1000    MSE =  1.8938262766314249\n",
      "Best N Estimator for Zigbee =  100\n"
     ]
    }
   ],
   "source": [
    "av = []\n",
    "# create vector for N Estimators\n",
    "n_est = [10, 100, 1000]\n",
    "for i in n_est:\n",
    "    y1_pred, y2_pred = RandomForest(X_train, X_test, Y1_train, Y2_train,i)\n",
    "    ave = geterror(y1_pred,Y1_test,y2_pred,Y2_test)\n",
    "    print('N Estimator =', i, \"   MSE = \", ave)\n",
    "    av.append(ave)\n",
    "print(\"Best N Estimator for Zigbee = \", n_est[av.index(min(av))])"
   ]
  },
  {
   "cell_type": "markdown",
   "metadata": {},
   "source": [
    "### WiFi Technology"
   ]
  },
  {
   "cell_type": "code",
   "execution_count": 68,
   "metadata": {},
   "outputs": [],
   "source": [
    "X_train, X_test, Y1_train, Y2_train, Y1_test, Y2_test = separateData(WiFi_dataset,WiFi_testset)"
   ]
  },
  {
   "cell_type": "markdown",
   "metadata": {},
   "source": [
    "#### N estimator = 10"
   ]
  },
  {
   "cell_type": "code",
   "execution_count": 69,
   "metadata": {},
   "outputs": [
    {
     "name": "stdout",
     "output_type": "stream",
     "text": [
      "Error =  [1.30462908]\n"
     ]
    },
    {
     "name": "stderr",
     "output_type": "stream",
     "text": [
      "C:\\Users\\kenshi410\\anaconda3\\lib\\site-packages\\ipykernel_launcher.py:4: DataConversionWarning: A column-vector y was passed when a 1d array was expected. Please change the shape of y to (n_samples,), for example using ravel().\n",
      "  after removing the cwd from sys.path.\n",
      "C:\\Users\\kenshi410\\anaconda3\\lib\\site-packages\\ipykernel_launcher.py:6: DataConversionWarning: A column-vector y was passed when a 1d array was expected. Please change the shape of y to (n_samples,), for example using ravel().\n",
      "  \n"
     ]
    }
   ],
   "source": [
    "y1_pred, y2_pred = RandomForest(X_train, X_test, Y1_train, Y2_train,10)\n",
    "lenght = list(range(0,len(X_test)))\n",
    "x_vec_1 = []\n",
    "for i in lenght:\n",
    "    x = error(y1_pred,Y1_test,y2_pred,Y2_test)\n",
    "    x_vec_1.append(x)\n",
    "average_1 = Average(x_vec_1)\n",
    "print('Error = ', average_1)"
   ]
  },
  {
   "cell_type": "markdown",
   "metadata": {},
   "source": [
    "###### Find best n estimator"
   ]
  },
  {
   "cell_type": "code",
   "execution_count": null,
   "metadata": {},
   "outputs": [
    {
     "name": "stderr",
     "output_type": "stream",
     "text": [
      "C:\\Users\\kenshi410\\anaconda3\\lib\\site-packages\\ipykernel_launcher.py:4: DataConversionWarning: A column-vector y was passed when a 1d array was expected. Please change the shape of y to (n_samples,), for example using ravel().\n",
      "  after removing the cwd from sys.path.\n",
      "C:\\Users\\kenshi410\\anaconda3\\lib\\site-packages\\ipykernel_launcher.py:6: DataConversionWarning: A column-vector y was passed when a 1d array was expected. Please change the shape of y to (n_samples,), for example using ravel().\n",
      "  \n",
      "C:\\Users\\kenshi410\\anaconda3\\lib\\site-packages\\ipykernel_launcher.py:4: DataConversionWarning: A column-vector y was passed when a 1d array was expected. Please change the shape of y to (n_samples,), for example using ravel().\n",
      "  after removing the cwd from sys.path.\n",
      "C:\\Users\\kenshi410\\anaconda3\\lib\\site-packages\\ipykernel_launcher.py:6: DataConversionWarning: A column-vector y was passed when a 1d array was expected. Please change the shape of y to (n_samples,), for example using ravel().\n",
      "  \n",
      "C:\\Users\\kenshi410\\anaconda3\\lib\\site-packages\\ipykernel_launcher.py:4: DataConversionWarning: A column-vector y was passed when a 1d array was expected. Please change the shape of y to (n_samples,), for example using ravel().\n",
      "  after removing the cwd from sys.path.\n"
     ]
    },
    {
     "name": "stdout",
     "output_type": "stream",
     "text": [
      "N Estimator = 10    MSE =  1.3046290824721019\n",
      "N Estimator = 100    MSE =  1.501261163278443\n"
     ]
    },
    {
     "name": "stderr",
     "output_type": "stream",
     "text": [
      "C:\\Users\\kenshi410\\anaconda3\\lib\\site-packages\\ipykernel_launcher.py:6: DataConversionWarning: A column-vector y was passed when a 1d array was expected. Please change the shape of y to (n_samples,), for example using ravel().\n",
      "  \n"
     ]
    }
   ],
   "source": [
    "av = []\n",
    "# create vector for N Estimators\n",
    "n_est = [10, 100, 1000]\n",
    "for i in n_est:\n",
    "    y1_pred, y2_pred = RandomForest(X_train, X_test, Y1_train, Y2_train,i)\n",
    "    ave = geterror(y1_pred,Y1_test,y2_pred,Y2_test)\n",
    "    print('N Estimator =', i, \"   MSE = \", ave)\n",
    "    av.append(ave)\n",
    "print(\"Best N Estimator for WiFi = \", n_est[av.index(min(av))])"
   ]
  },
  {
   "cell_type": "markdown",
   "metadata": {},
   "source": [
    "# Summary"
   ]
  },
  {
   "cell_type": "markdown",
   "metadata": {},
   "source": [
    "<img src=\"RF.jpg\"/>"
   ]
  },
  {
   "cell_type": "markdown",
   "metadata": {},
   "source": [
    "According to the results, the parameter with the lowest error for all technologies for scenario 1 is n estimator = 10,  \n",
    "n estimator = 1000 for Scenario 2 and lastly, n estimator = 10 for scenario 3.\n",
    "\n",
    "To select the best parameter for all scenario, we select n estimator with the lowest average deviation error. From the result, the parameter for all scenario is n estimator =  10 with an average error of 1.499360243 meters.\n",
    "\n",
    "Overall, the Random Forest method deviated off from the original receiver position of 1.522363688 meters."
   ]
  }
 ],
 "metadata": {
  "kernelspec": {
   "display_name": "Python 3",
   "language": "python",
   "name": "python3"
  },
  "language_info": {
   "codemirror_mode": {
    "name": "ipython",
    "version": 3
   },
   "file_extension": ".py",
   "mimetype": "text/x-python",
   "name": "python",
   "nbconvert_exporter": "python",
   "pygments_lexer": "ipython3",
   "version": "3.7.6"
  }
 },
 "nbformat": 4,
 "nbformat_minor": 4
}
