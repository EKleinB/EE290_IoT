{
 "cells": [
  {
   "cell_type": "markdown",
   "metadata": {},
   "source": [
    "# Using Trilateration"
   ]
  },
  {
   "cell_type": "code",
   "execution_count": 1,
   "metadata": {},
   "outputs": [],
   "source": [
    "import pandas as pd\n",
    "import numpy as np"
   ]
  },
  {
   "cell_type": "markdown",
   "metadata": {},
   "source": [
    "##### Define functions"
   ]
  },
  {
   "cell_type": "code",
   "execution_count": 2,
   "metadata": {},
   "outputs": [],
   "source": [
    "def calculate_distance(RSSI, n, C):\n",
    "    distance = 10 ** ( (C - RSSI) / (10 * n) )\n",
    "    return distance\n",
    "\n",
    "def track(x1,y1,r1,x2,y2,r2,x3,y3,r3):\n",
    "  A = 2*x2 - 2*x1\n",
    "  B = 2*y2 - 2*y1\n",
    "  C = r1**2 - r2**2 - x1**2 + x2**2 - y1**2 + y2**2\n",
    "  D = 2*x3 - 2*x2\n",
    "  E = 2*y3 - 2*y2\n",
    "  F = r2**2 - r3**2 - x2**2 + x3**2 - y2**2 + y3**2\n",
    "  x = (C*E - F*B) / (E*A - B*D)\n",
    "  y = (C*D - A*F) / (B*D - A*E)\n",
    "  return x,y\n",
    "\n",
    "def calculate_error(x_predict, x_orig, y_predict, y_orig):\n",
    "    return ( (x_predict - x_orig) ** 2 + (y_predict - y_orig) ** 2 ) ** 0.5"
   ]
  },
  {
   "cell_type": "markdown",
   "metadata": {},
   "source": [
    "### SCENARIO 1"
   ]
  },
  {
   "cell_type": "code",
   "execution_count": 3,
   "metadata": {},
   "outputs": [],
   "source": [
    "#read dataset for scenario 1\n",
    "df_BLE = pd.read_csv('BLE_scenario1.csv')\n",
    "df_Zigbee = pd.read_csv('Zigbee_scenario1.csv')\n",
    "df_WiFi = pd.read_csv('WiFi_scenario1.csv')"
   ]
  },
  {
   "cell_type": "code",
   "execution_count": 4,
   "metadata": {},
   "outputs": [],
   "source": [
    "# Data Preprocessing\n",
    "BLE_rssi_A= df_BLE['RSSI A']\n",
    "BLE_rssi_B= df_BLE['RSSI B']\n",
    "BLE_rssi_C= df_BLE['RSSI C']\n",
    "BLE_x_true= df_BLE['x']\n",
    "BLE_y_true= df_BLE['y']\n",
    "\n",
    "Zigbee_rssi_A= df_Zigbee['RSSI A']\n",
    "Zigbee_rssi_B= df_Zigbee['RSSI B']\n",
    "Zigbee_rssi_C= df_Zigbee['RSSI C']\n",
    "Zigbee_x_true= df_Zigbee['x']\n",
    "Zigbee_y_true= df_Zigbee['y']\n",
    "\n",
    "WiFi_rssi_A= df_WiFi['RSSI A']\n",
    "WiFi_rssi_B= df_WiFi['RSSI B']\n",
    "WiFi_rssi_C= df_WiFi['RSSI C']\n",
    "WiFi_x_true= df_WiFi['x']\n",
    "WiFi_y_true= df_WiFi['y']\n",
    "\n",
    "x_true= df_BLE['x']\n",
    "y_true= df_BLE['y']\n",
    "\n",
    "n_BLE = 2.271\n",
    "n_Zigbee = 2.935\n",
    "n_Wifi = 2.162\n",
    "\n",
    "c_BLE = -75.48\n",
    "c_Zigbee = -50.33\n",
    "c_WiFi = -45.73"
   ]
  },
  {
   "cell_type": "markdown",
   "metadata": {},
   "source": [
    "##### Calculate Distance using Pathloss Model"
   ]
  },
  {
   "cell_type": "code",
   "execution_count": 5,
   "metadata": {},
   "outputs": [],
   "source": [
    "BLE_distance_A = calculate_distance(BLE_rssi_A,n_BLE,c_BLE)\n",
    "BLE_distance_B = calculate_distance(BLE_rssi_B,n_BLE,c_BLE)\n",
    "BLE_distance_C = calculate_distance(BLE_rssi_C,n_BLE,c_BLE)\n",
    "\n",
    "Zigbee_distance_A = calculate_distance(Zigbee_rssi_A,n_Zigbee,c_Zigbee)\n",
    "Zigbee_distance_B = calculate_distance(Zigbee_rssi_B,n_Zigbee,c_Zigbee)\n",
    "Zigbee_distance_C = calculate_distance(Zigbee_rssi_C,n_Zigbee,c_Zigbee)\n",
    "\n",
    "WiFi_distance_A = calculate_distance(WiFi_rssi_A,n_Wifi,c_WiFi)\n",
    "WiFi_distance_B = calculate_distance(WiFi_rssi_B,n_Wifi,c_WiFi)\n",
    "WiFi_distance_C = calculate_distance(WiFi_rssi_C,n_Wifi,c_WiFi)"
   ]
  },
  {
   "cell_type": "markdown",
   "metadata": {},
   "source": [
    "##### Predict the Coordinates using Trilateration"
   ]
  },
  {
   "cell_type": "code",
   "execution_count": 6,
   "metadata": {},
   "outputs": [],
   "source": [
    "BLE_x_predict,BLE_y_predict = track(0,0,BLE_distance_A,4,0,BLE_distance_B,0,4,BLE_distance_C)\n",
    "ZigBee_x_predict,Zigbee_y_predict = track(0,0,Zigbee_distance_A,4,0,Zigbee_distance_B,0,4,Zigbee_distance_C)\n",
    "WiFi_x_predict,WiFi_y_predict = track(0,0,WiFi_distance_A,4,0,WiFi_distance_B,0,4,WiFi_distance_C)"
   ]
  },
  {
   "cell_type": "markdown",
   "metadata": {},
   "source": [
    "##### Calculate the error"
   ]
  },
  {
   "cell_type": "code",
   "execution_count": 7,
   "metadata": {},
   "outputs": [
    {
     "data": {
      "text/plain": [
       "2.171136408014563"
      ]
     },
     "execution_count": 7,
     "metadata": {},
     "output_type": "execute_result"
    }
   ],
   "source": [
    "BLE_error = calculate_error(BLE_x_predict, x_true, BLE_y_predict, y_true)\n",
    "Zigbee_error = calculate_error(ZigBee_x_predict, x_true, Zigbee_y_predict, y_true)\n",
    "WiFi_error = calculate_error(WiFi_x_predict, x_true, WiFi_y_predict, y_true)\n",
    "\n",
    "_error = [] #create error vector\n",
    "#calcualate error for BLE\n",
    "BLE_mean_error=np.mean(BLE_error)\n",
    "_error.append(BLE_mean_error)\n",
    "#calcualate error for Zigbee\n",
    "Zigbee_mean_error=np.mean(Zigbee_error)\n",
    "_error.append(Zigbee_mean_error)\n",
    "#calcualate error for WiFi\n",
    "WiFi_mean_error=np.mean(WiFi_error)\n",
    "_error.append(WiFi_mean_error)\n",
    "\n",
    "#get average error\n",
    "average_error = np.mean(_error)\n",
    "average_error"
   ]
  },
  {
   "cell_type": "markdown",
   "metadata": {},
   "source": [
    "### SCENARIO 2"
   ]
  },
  {
   "cell_type": "code",
   "execution_count": 8,
   "metadata": {},
   "outputs": [],
   "source": [
    "#read dataset for scenario 2\n",
    "df2_BLE = pd.read_csv('BLE_scenario2.csv')\n",
    "df2_Zigbee = pd.read_csv('Zigbee_scenario2.csv')\n",
    "df2_WiFi = pd.read_csv('WiFi_scenario2.csv')"
   ]
  },
  {
   "cell_type": "code",
   "execution_count": 9,
   "metadata": {},
   "outputs": [],
   "source": [
    "# Data Preprocessing\n",
    "BLE2_rssi_A= df2_BLE['RSSI A']\n",
    "BLE2_rssi_B= df2_BLE['RSSI B']\n",
    "BLE2_rssi_C= df2_BLE['RSSI C']\n",
    "BLE2_x_true= df2_BLE['x']\n",
    "BLE2_y_true= df2_BLE['y']\n",
    "\n",
    "Zigbee2_rssi_A= df2_Zigbee['RSSI A']\n",
    "Zigbee2_rssi_B= df2_Zigbee['RSSI B']\n",
    "Zigbee2_rssi_C= df2_Zigbee['RSSI C']\n",
    "Zigbee2_x_true= df2_Zigbee['x']\n",
    "Zigbee2_y_true= df2_Zigbee['y']\n",
    "\n",
    "WiFi2_rssi_A= df2_WiFi['RSSI A']\n",
    "WiFi2_rssi_B= df2_WiFi['RSSI B']\n",
    "WiFi2_rssi_C= df2_WiFi['RSSI C']\n",
    "WiFi2_x_true= df2_WiFi['x']\n",
    "WiFi2_y_true= df2_WiFi['y']\n",
    "\n",
    "x2_true= df2_BLE['x']\n",
    "y2_true= df2_BLE['y']\n",
    "\n",
    "n2_BLE = 1.999\n",
    "n2_Zigbee = 1.912\n",
    "n2_Wifi = 2.018\n",
    "\n",
    "c2_BLE = -62.27\n",
    "c2_Zigbee = -52.73\n",
    "c2_WiFi = -37.37"
   ]
  },
  {
   "cell_type": "markdown",
   "metadata": {},
   "source": [
    "##### Calculate Distance using Pathloss Model"
   ]
  },
  {
   "cell_type": "code",
   "execution_count": 10,
   "metadata": {},
   "outputs": [],
   "source": [
    "BLE2_distance_A = calculate_distance(BLE2_rssi_A,n2_BLE,c2_BLE)\n",
    "BLE2_distance_B = calculate_distance(BLE2_rssi_B,n2_BLE,c2_BLE)\n",
    "BLE2_distance_C = calculate_distance(BLE2_rssi_C,n2_BLE,c2_BLE)\n",
    "\n",
    "Zigbee2_distance_A = calculate_distance(Zigbee2_rssi_A,n2_Zigbee,c2_Zigbee)\n",
    "Zigbee2_distance_B = calculate_distance(Zigbee2_rssi_B,n2_Zigbee,c2_Zigbee)\n",
    "Zigbee2_distance_C = calculate_distance(Zigbee2_rssi_C,n2_Zigbee,c2_Zigbee)\n",
    "\n",
    "WiFi2_distance_A = calculate_distance(WiFi2_rssi_A,n2_Wifi,c2_WiFi)\n",
    "WiFi2_distance_B = calculate_distance(WiFi2_rssi_B,n2_Wifi,c2_WiFi)\n",
    "WiFi2_distance_C = calculate_distance(WiFi2_rssi_C,n2_Wifi,c2_WiFi)"
   ]
  },
  {
   "cell_type": "markdown",
   "metadata": {},
   "source": [
    "##### Predict the Coordinates using Trilateration"
   ]
  },
  {
   "cell_type": "code",
   "execution_count": 11,
   "metadata": {},
   "outputs": [],
   "source": [
    "BLE2_x_predict,BLE2_y_predict = track(0,0,BLE2_distance_A,3.27,0,BLE2_distance_B,1,4.4,BLE2_distance_C)\n",
    "ZigBee2_x_predict,Zigbee2_y_predict = track(0,0,Zigbee2_distance_A,3.27,0,Zigbee2_distance_B,1,4.4,Zigbee2_distance_C)\n",
    "WiFi2_x_predict,WiFi2_y_predict = track(0,0,WiFi2_distance_A,3.27,0,WiFi2_distance_B,1,4.4,WiFi2_distance_C)"
   ]
  },
  {
   "cell_type": "markdown",
   "metadata": {},
   "source": [
    "##### Calculate the error"
   ]
  },
  {
   "cell_type": "code",
   "execution_count": 12,
   "metadata": {},
   "outputs": [
    {
     "data": {
      "text/plain": [
       "3.281451266978312"
      ]
     },
     "execution_count": 12,
     "metadata": {},
     "output_type": "execute_result"
    }
   ],
   "source": [
    "BLE2_error = calculate_error(BLE2_x_predict, x2_true, BLE2_y_predict, y2_true)\n",
    "Zigbee2_error = calculate_error(ZigBee2_x_predict, x2_true, Zigbee2_y_predict, y2_true)\n",
    "WiFi2_error = calculate_error(WiFi2_x_predict, x2_true, WiFi2_y_predict, y2_true)\n",
    "\n",
    "_error2 = [] #create error vector\n",
    "#calcualate error for BLE\n",
    "BLE2_mean_error=np.mean(BLE2_error)\n",
    "_error2.append(BLE2_mean_error)\n",
    "#calcualate error for Zigbee\n",
    "Zigbee2_mean_error=np.mean(Zigbee2_error)\n",
    "_error2.append(Zigbee2_mean_error)\n",
    "#calcualate error for WiFi\n",
    "WiFi2_mean_error=np.mean(WiFi2_error)\n",
    "_error2.append(WiFi2_mean_error)\n",
    "\n",
    "#get average error\n",
    "average_error2 = np.mean(_error2)\n",
    "average_error2"
   ]
  },
  {
   "cell_type": "markdown",
   "metadata": {},
   "source": [
    "### SCENARIO 3"
   ]
  },
  {
   "cell_type": "code",
   "execution_count": 13,
   "metadata": {},
   "outputs": [],
   "source": [
    "#read dataset for scenario 2\n",
    "df3_BLE = pd.read_csv('BLE_scenario3.csv')\n",
    "df3_Zigbee = pd.read_csv('Zigbee_scenario3.csv')\n",
    "df3_WiFi = pd.read_csv('WiFi_scenario3.csv')"
   ]
  },
  {
   "cell_type": "code",
   "execution_count": 14,
   "metadata": {},
   "outputs": [],
   "source": [
    "# Data Preprocessing\n",
    "BLE3_rssi_A= df3_BLE['RSSI A']\n",
    "BLE3_rssi_B= df3_BLE['RSSI B']\n",
    "BLE3_rssi_C= df3_BLE['RSSI C']\n",
    "BLE3_x_true= df3_BLE['x']\n",
    "BLE3_y_true= df3_BLE['y']\n",
    "\n",
    "Zigbee3_rssi_A= df3_Zigbee['RSSI A']\n",
    "Zigbee3_rssi_B= df3_Zigbee['RSSI B']\n",
    "Zigbee3_rssi_C= df3_Zigbee['RSSI C']\n",
    "Zigbee3_x_true= df3_Zigbee['x']\n",
    "Zigbee3_y_true= df3_Zigbee['y']\n",
    "\n",
    "WiFi3_rssi_A= df3_WiFi['RSSI A']\n",
    "WiFi3_rssi_B= df3_WiFi['RSSI B']\n",
    "WiFi3_rssi_C= df3_WiFi['RSSI C']\n",
    "WiFi3_x_true= df3_WiFi['x']\n",
    "WiFi3_y_true= df3_WiFi['y']\n",
    "\n",
    "x3_true= df3_BLE['x']\n",
    "y3_true= df3_BLE['y']\n",
    "\n",
    "n3_BLE = 2.442\n",
    "n3_Zigbee = 2.085\n",
    "n3_Wifi = 2.563\n",
    "\n",
    "c3_BLE = -62.5\n",
    "c3_Zigbee = -48.52\n",
    "c3_WiFi = -33.75"
   ]
  },
  {
   "cell_type": "markdown",
   "metadata": {},
   "source": [
    "##### Calculate Distance using Pathloss Model"
   ]
  },
  {
   "cell_type": "code",
   "execution_count": 15,
   "metadata": {},
   "outputs": [],
   "source": [
    "BLE3_distance_A = calculate_distance(BLE3_rssi_A,n3_BLE,c3_BLE)\n",
    "BLE3_distance_B = calculate_distance(BLE3_rssi_B,n3_BLE,c3_BLE)\n",
    "BLE3_distance_C = calculate_distance(BLE3_rssi_C,n3_BLE,c3_BLE)\n",
    "\n",
    "Zigbee3_distance_A = calculate_distance(Zigbee3_rssi_A,n3_Zigbee,c3_Zigbee)\n",
    "Zigbee3_distance_B = calculate_distance(Zigbee3_rssi_B,n3_Zigbee,c3_Zigbee)\n",
    "Zigbee3_distance_C = calculate_distance(Zigbee3_rssi_C,n3_Zigbee,c3_Zigbee)\n",
    "\n",
    "WiFi3_distance_A = calculate_distance(WiFi3_rssi_A,n3_Wifi,c3_WiFi)\n",
    "WiFi3_distance_B = calculate_distance(WiFi3_rssi_B,n3_Wifi,c3_WiFi)\n",
    "WiFi3_distance_C = calculate_distance(WiFi3_rssi_C,n3_Wifi,c3_WiFi)"
   ]
  },
  {
   "cell_type": "markdown",
   "metadata": {},
   "source": [
    "##### Predict the Coordinates using Trilateration"
   ]
  },
  {
   "cell_type": "code",
   "execution_count": 16,
   "metadata": {},
   "outputs": [],
   "source": [
    "BLE3_x_predict,BLE3_y_predict = track(0,0,BLE3_distance_A,9.625,0,BLE3_distance_B,4.812,2.492,BLE3_distance_C)\n",
    "ZigBee3_x_predict,Zigbee3_y_predict = track(0,0,Zigbee3_distance_A,9.625,0,Zigbee3_distance_B,4.812,2.492,Zigbee3_distance_C)\n",
    "WiFi3_x_predict,WiFi3_y_predict = track(0,0,WiFi3_distance_A,9.625,0,WiFi3_distance_B,4.812,2.492,WiFi3_distance_C)"
   ]
  },
  {
   "cell_type": "markdown",
   "metadata": {},
   "source": [
    "##### Calculate the error"
   ]
  },
  {
   "cell_type": "code",
   "execution_count": 17,
   "metadata": {},
   "outputs": [
    {
     "data": {
      "text/plain": [
       "5.4920977771990716"
      ]
     },
     "execution_count": 17,
     "metadata": {},
     "output_type": "execute_result"
    }
   ],
   "source": [
    "BLE3_error = calculate_error(BLE3_x_predict, x3_true, BLE3_y_predict, y3_true)\n",
    "Zigbee3_error = calculate_error(ZigBee3_x_predict, x3_true, Zigbee3_y_predict, y3_true)\n",
    "WiFi3_error = calculate_error(WiFi3_x_predict, x3_true, WiFi3_y_predict, y3_true)\n",
    "\n",
    "_error3 = [] #create error vector\n",
    "#calcualate error for BLE\n",
    "BLE3_mean_error=np.mean(BLE3_error)\n",
    "_error3.append(BLE3_mean_error)\n",
    "#calcualate error for Zigbee\n",
    "Zigbee3_mean_error=np.mean(Zigbee3_error)\n",
    "_error3.append(Zigbee3_mean_error)\n",
    "#calcualate error for WiFi\n",
    "WiFi3_mean_error=np.mean(WiFi3_error)\n",
    "_error3.append(WiFi3_mean_error)\n",
    "\n",
    "#get average error\n",
    "average_error3 = np.mean(_error3)\n",
    "average_error3"
   ]
  },
  {
   "cell_type": "markdown",
   "metadata": {},
   "source": [
    "## Summary"
   ]
  },
  {
   "cell_type": "markdown",
   "metadata": {},
   "source": [
    "<img src=\"Trilateration.jpg\"/>"
   ]
  },
  {
   "cell_type": "markdown",
   "metadata": {},
   "source": [
    "According to the results, Scenario 1 got the least  average error with 2.17 meters. Scenario 2 got an average error of 3.28 meters for all technologies. Scenario 3 got the highest average error of 5.49 meters for all wireless technologies. \n",
    "\n",
    "Overall, the trilateration method deviated off from the original receiver position of 3.648228422 meters"
   ]
  }
 ],
 "metadata": {
  "kernelspec": {
   "display_name": "Python 3",
   "language": "python",
   "name": "python3"
  },
  "language_info": {
   "codemirror_mode": {
    "name": "ipython",
    "version": 3
   },
   "file_extension": ".py",
   "mimetype": "text/x-python",
   "name": "python",
   "nbconvert_exporter": "python",
   "pygments_lexer": "ipython3",
   "version": "3.7.6"
  }
 },
 "nbformat": 4,
 "nbformat_minor": 4
}
