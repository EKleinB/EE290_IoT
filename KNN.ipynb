{
 "cells": [
  {
   "cell_type": "markdown",
   "metadata": {},
   "source": [
    "# Using K-Nearest Neighbor"
   ]
  },
  {
   "cell_type": "code",
   "execution_count": 5,
   "metadata": {},
   "outputs": [],
   "source": [
    "import numpy as np\n",
    "import matplotlib.pyplot as plt\n",
    "import pandas as pd\n",
    "from sklearn.preprocessing import StandardScaler\n",
    "from sklearn.neighbors import KNeighborsRegressor"
   ]
  },
  {
   "cell_type": "markdown",
   "metadata": {},
   "source": [
    "###### Define Function"
   ]
  },
  {
   "cell_type": "code",
   "execution_count": 6,
   "metadata": {},
   "outputs": [],
   "source": [
    "def KNN(X_train, X_test, Y1_train, Y2_train,k):\n",
    "    \n",
    "    regressor = KNeighborsRegressor(n_neighbors= k)\n",
    "    regressor.fit(X_train, Y1_train)\n",
    "    y1_pred = regressor.predict(X_test)\n",
    "    regressor.fit(X_train, Y2_train)\n",
    "    y2_pred = regressor.predict(X_test)\n",
    "    \n",
    "    return y1_pred, y2_pred\n",
    "\n",
    "def separateData(dataset, testset):\n",
    "    dataset = dataset[[\"RSSI A\", \"RSSI B\", \"RSSI C\",\"x\",\"y\"]]\n",
    "    testset = testset[[\"RSSI A\", \"RSSI B\", \"RSSI C\",\"x\",\"y\"]]\n",
    "\n",
    "    \n",
    "    X_train = dataset.iloc[:, :3]\n",
    "    X_train = X_train.values\n",
    "     \n",
    "    X_test = testset.iloc[:, :3]\n",
    "    X_test = X_test.values\n",
    "    \n",
    "    Y1_train = dataset['x']\n",
    "    Y1_train = Y1_train.values.reshape(-1,1)\n",
    "    \n",
    "    Y2_train = dataset['y']\n",
    "    Y2_train = Y2_train.values.reshape(-1,1)\n",
    "      \n",
    "    Y1_test = testset['x']\n",
    "    Y1_test = Y1_test.values.reshape(-1,1)\n",
    "    \n",
    "    Y2_test = testset['y']\n",
    "    Y2_test = Y2_test.values.reshape(-1,1)\n",
    "    \n",
    "    return X_train, X_test, Y1_train, Y2_train, Y1_test, Y2_test\n",
    "\n",
    "def error(x_calc, x_real, y_calc, y_real):\n",
    "    x = ( (x_calc[i] - x_real[i]) ** 2 + (y_calc[i] - y_real[i]) ** 2 ) ** 0.5        \n",
    "    return x\n",
    "def Average(lst):\n",
    "    return sum(lst) / len(lst)\n",
    "\n",
    "# For hyperparameter Tuning\n",
    "def error1(x_calc, x_real, y_calc, y_real):\n",
    "    x = ( (x_calc - x_real) ** 2 + (y_calc - y_real) ** 2 ) ** 0.5   \n",
    "    return x\n",
    "def geterror(y1_pred,Y1_test,y2_pred,Y2_test):\n",
    "    lenght = list(range(0,len(Y1_test)))\n",
    "    x_vec_0 = []\n",
    "    for i in lenght:\n",
    "        x_vec_0.append(error1(y1_pred[i],Y1_test[i],y2_pred[i],Y2_test[i])[0])  \n",
    "    arr = np.asarray(x_vec_0)\n",
    "    average_0 = sum(arr)/len(arr)\n",
    "    return average_0"
   ]
  },
  {
   "cell_type": "markdown",
   "metadata": {},
   "source": [
    "## Scenario 1"
   ]
  },
  {
   "cell_type": "code",
   "execution_count": 7,
   "metadata": {},
   "outputs": [],
   "source": [
    "#read dataset for scenario 1\n",
    "df_BLE = pd.read_csv('BLE_scenario1.csv')\n",
    "df_Zigbee = pd.read_csv('Zigbee_scenario1.csv')\n",
    "df_WiFi = pd.read_csv('WiFi_scenario1.csv')"
   ]
  },
  {
   "cell_type": "code",
   "execution_count": 8,
   "metadata": {},
   "outputs": [],
   "source": [
    "# TO SPLIT THE WHOLE DATASET INTO TRAINING DATASET AND TESTING DATASET\n",
    "from sklearn.model_selection import train_test_split\n",
    "BLE_dataset,BLE_testset = train_test_split(df_BLE, test_size = 0.2, train_size = 0.8, random_state=0)\n",
    "Zigbee_dataset,Zigbee_testset = train_test_split(df_Zigbee, test_size = 0.2, train_size = 0.8, random_state=0)\n",
    "WiFi_dataset,WiFi_testset = train_test_split(df_WiFi, test_size = 0.2, train_size = 0.8, random_state=0)"
   ]
  },
  {
   "cell_type": "markdown",
   "metadata": {},
   "source": [
    "### BLE Technology"
   ]
  },
  {
   "cell_type": "code",
   "execution_count": 9,
   "metadata": {},
   "outputs": [],
   "source": [
    "X_train, X_test, Y1_train, Y2_train, Y1_test, Y2_test = separateData(BLE_dataset,BLE_testset)"
   ]
  },
  {
   "cell_type": "markdown",
   "metadata": {},
   "source": [
    "#### K = 4"
   ]
  },
  {
   "cell_type": "code",
   "execution_count": 10,
   "metadata": {},
   "outputs": [
    {
     "name": "stdout",
     "output_type": "stream",
     "text": [
      "Error =  [1.4951756]\n"
     ]
    }
   ],
   "source": [
    "y1_pred, y2_pred = KNN(X_train, X_test, Y1_train, Y2_train,4)\n",
    "\n",
    "lenght = list(range(0,len(X_test)))\n",
    "x_vec_0 = []\n",
    "for i in lenght:\n",
    "    x = error(y1_pred,Y1_test,y2_pred,Y2_test)\n",
    "    x_vec_0.append(x)    \n",
    "average_0 = Average(x_vec_0)\n",
    "print('Error = ', average_0)"
   ]
  },
  {
   "cell_type": "markdown",
   "metadata": {},
   "source": [
    "##### Find best k parameter"
   ]
  },
  {
   "cell_type": "code",
   "execution_count": 11,
   "metadata": {},
   "outputs": [
    {
     "name": "stdout",
     "output_type": "stream",
     "text": [
      "k = 1    MSE =  1.7577254663598387\n",
      "k = 2    MSE =  1.48872158617339\n",
      "k = 3    MSE =  1.5301559836307996\n",
      "k = 4    MSE =  1.4951756005776193\n",
      "k = 5    MSE =  1.4808869900930965\n",
      "Best k for BLE =  5\n"
     ]
    }
   ],
   "source": [
    "av = []\n",
    "# create vector for N Estimators\n",
    "k_vec = [1,2,3,4,5]\n",
    "for i in k_vec:\n",
    "    y1_pred, y2_pred = KNN(X_train, X_test, Y1_train, Y2_train,i)\n",
    "    ave = geterror(y1_pred,Y1_test,y2_pred,Y2_test)\n",
    "    print('k =', i, \"   MSE = \", ave)\n",
    "    av.append(ave)\n",
    "print(\"Best k for BLE = \", k_vec[av.index(min(av))])"
   ]
  },
  {
   "cell_type": "markdown",
   "metadata": {},
   "source": [
    "### Zigbee Technology"
   ]
  },
  {
   "cell_type": "code",
   "execution_count": 59,
   "metadata": {},
   "outputs": [],
   "source": [
    "X_train, X_test, Y1_train, Y2_train, Y1_test, Y2_test = separateData(Zigbee_dataset,Zigbee_testset)"
   ]
  },
  {
   "cell_type": "markdown",
   "metadata": {},
   "source": [
    "#### K = 4"
   ]
  },
  {
   "cell_type": "code",
   "execution_count": 60,
   "metadata": {},
   "outputs": [
    {
     "name": "stdout",
     "output_type": "stream",
     "text": [
      "Error =  [1.53270357]\n"
     ]
    }
   ],
   "source": [
    "y1_pred, y2_pred = KNN(X_train, X_test, Y1_train, Y2_train,4)\n",
    "\n",
    "lenght = list(range(0,len(X_test)))\n",
    "x_vec_0 = []\n",
    "for i in lenght:\n",
    "    x = error(y1_pred,Y1_test,y2_pred,Y2_test)\n",
    "    x_vec_0.append(x)    \n",
    "average_0 = Average(x_vec_0)\n",
    "print('Error = ', average_0)"
   ]
  },
  {
   "cell_type": "markdown",
   "metadata": {},
   "source": [
    "##### Find Best k Parameter"
   ]
  },
  {
   "cell_type": "code",
   "execution_count": 61,
   "metadata": {},
   "outputs": [
    {
     "name": "stdout",
     "output_type": "stream",
     "text": [
      "k = 1    MSE =  1.6731834660991858\n",
      "k = 2    MSE =  1.4615071385524112\n",
      "k = 3    MSE =  1.5626006569255744\n",
      "k = 4    MSE =  1.5327035652199956\n",
      "k = 5    MSE =  1.4554995294821758\n",
      "Best k for Zigbee =  5\n"
     ]
    }
   ],
   "source": [
    "av = []\n",
    "# create vector for N Estimators\n",
    "k_vec = [1,2,3,4,5]\n",
    "for i in k_vec:\n",
    "    y1_pred, y2_pred = KNN(X_train, X_test, Y1_train, Y2_train,i)\n",
    "    ave = geterror(y1_pred,Y1_test,y2_pred,Y2_test)\n",
    "    print('k =', i, \"   MSE = \", ave)\n",
    "    av.append(ave)\n",
    "print(\"Best k for Zigbee = \", k_vec[av.index(min(av))])"
   ]
  },
  {
   "cell_type": "markdown",
   "metadata": {},
   "source": [
    "### WiFi Technology"
   ]
  },
  {
   "cell_type": "code",
   "execution_count": 62,
   "metadata": {},
   "outputs": [],
   "source": [
    "X_train, X_test, Y1_train, Y2_train, Y1_test, Y2_test = separateData(WiFi_dataset,WiFi_testset)"
   ]
  },
  {
   "cell_type": "markdown",
   "metadata": {},
   "source": [
    "#### k = 4"
   ]
  },
  {
   "cell_type": "code",
   "execution_count": 63,
   "metadata": {},
   "outputs": [
    {
     "name": "stdout",
     "output_type": "stream",
     "text": [
      "Error =  [1.38486335]\n"
     ]
    }
   ],
   "source": [
    "y1_pred, y2_pred = KNN(X_train, X_test, Y1_train, Y2_train,4)\n",
    "\n",
    "lenght = list(range(0,len(X_test)))\n",
    "x_vec_0 = []\n",
    "for i in lenght:\n",
    "    x = error(y1_pred,Y1_test,y2_pred,Y2_test)\n",
    "    x_vec_0.append(x)    \n",
    "average_0 = Average(x_vec_0)\n",
    "print('Error = ', average_0)"
   ]
  },
  {
   "cell_type": "markdown",
   "metadata": {},
   "source": [
    "##### Find Best k Parameter"
   ]
  },
  {
   "cell_type": "code",
   "execution_count": 64,
   "metadata": {},
   "outputs": [
    {
     "name": "stdout",
     "output_type": "stream",
     "text": [
      "k = 1    MSE =  1.674828851866762\n",
      "k = 2    MSE =  1.4242648998001721\n",
      "k = 3    MSE =  1.3243609400562935\n",
      "k = 4    MSE =  1.3848633481772639\n",
      "k = 5    MSE =  1.4040188475192166\n",
      "Best k for WiFi =  3\n"
     ]
    }
   ],
   "source": [
    "av = []\n",
    "# create vector for N Estimators\n",
    "k_vec = [1,2,3,4,5]\n",
    "for i in k_vec:\n",
    "    y1_pred, y2_pred = KNN(X_train, X_test, Y1_train, Y2_train,i)\n",
    "    ave = geterror(y1_pred,Y1_test,y2_pred,Y2_test)\n",
    "    print('k =', i, \"   MSE = \", ave)\n",
    "    av.append(ave)\n",
    "print(\"Best k for WiFi = \", k_vec[av.index(min(av))])"
   ]
  },
  {
   "cell_type": "markdown",
   "metadata": {},
   "source": [
    "## Scenario 2"
   ]
  },
  {
   "cell_type": "code",
   "execution_count": 65,
   "metadata": {},
   "outputs": [],
   "source": [
    "#read dataset for scenario 2\n",
    "df_BLE = pd.read_csv('BLE_scenario2.csv')\n",
    "df_Zigbee = pd.read_csv('Zigbee_scenario2.csv')\n",
    "df_WiFi = pd.read_csv('WiFi_scenario2.csv')"
   ]
  },
  {
   "cell_type": "code",
   "execution_count": 66,
   "metadata": {},
   "outputs": [],
   "source": [
    "# TO SPLIT THE WHOLE DATASET INTO TRAINING DATASET AND TESTING DATASET\n",
    "from sklearn.model_selection import train_test_split\n",
    "BLE_dataset,BLE_testset = train_test_split(df_BLE, test_size = 0.2, train_size = 0.8, random_state=0)\n",
    "Zigbee_dataset,Zigbee_testset = train_test_split(df_Zigbee, test_size = 0.2, train_size = 0.8, random_state=0)\n",
    "WiFi_dataset,WiFi_testset = train_test_split(df_WiFi, test_size = 0.2, train_size = 0.8, random_state=0)"
   ]
  },
  {
   "cell_type": "markdown",
   "metadata": {},
   "source": [
    "### BLE Technology"
   ]
  },
  {
   "cell_type": "code",
   "execution_count": 67,
   "metadata": {},
   "outputs": [],
   "source": [
    "X_train, X_test, Y1_train, Y2_train, Y1_test, Y2_test = separateData(BLE_dataset,BLE_testset)"
   ]
  },
  {
   "cell_type": "markdown",
   "metadata": {},
   "source": [
    "#### k = 4"
   ]
  },
  {
   "cell_type": "code",
   "execution_count": 68,
   "metadata": {},
   "outputs": [
    {
     "name": "stdout",
     "output_type": "stream",
     "text": [
      "Error =  [0.93351983]\n"
     ]
    }
   ],
   "source": [
    "y1_pred, y2_pred = KNN(X_train, X_test, Y1_train, Y2_train,4)\n",
    "\n",
    "lenght = list(range(0,len(X_test)))\n",
    "x_vec_0 = []\n",
    "for i in lenght:\n",
    "    x = error(y1_pred,Y1_test,y2_pred,Y2_test)\n",
    "    x_vec_0.append(x)    \n",
    "average_0 = Average(x_vec_0)\n",
    "print('Error = ', average_0)"
   ]
  },
  {
   "cell_type": "markdown",
   "metadata": {},
   "source": [
    "##### Find Best k Parameter"
   ]
  },
  {
   "cell_type": "code",
   "execution_count": 69,
   "metadata": {},
   "outputs": [
    {
     "name": "stdout",
     "output_type": "stream",
     "text": [
      "k = 1    MSE =  1.405118501214409\n",
      "k = 2    MSE =  1.4283835582061526\n",
      "k = 3    MSE =  1.019891423722321\n",
      "k = 4    MSE =  0.9335198269835079\n",
      "k = 5    MSE =  1.1003480391349634\n",
      "Best k for BLE =  4\n"
     ]
    }
   ],
   "source": [
    "av = []\n",
    "# create vector for N Estimators\n",
    "k_vec = [1,2,3,4,5]\n",
    "for i in k_vec:\n",
    "    y1_pred, y2_pred = KNN(X_train, X_test, Y1_train, Y2_train,i)\n",
    "    ave = geterror(y1_pred,Y1_test,y2_pred,Y2_test)\n",
    "    print('k =', i, \"   MSE = \", ave)\n",
    "    av.append(ave)\n",
    "print(\"Best k for BLE = \", k_vec[av.index(min(av))])"
   ]
  },
  {
   "cell_type": "markdown",
   "metadata": {},
   "source": [
    "### Zigbee Technology"
   ]
  },
  {
   "cell_type": "code",
   "execution_count": 70,
   "metadata": {},
   "outputs": [],
   "source": [
    "X_train, X_test, Y1_train, Y2_train, Y1_test, Y2_test = separateData(Zigbee_dataset,Zigbee_testset)"
   ]
  },
  {
   "cell_type": "markdown",
   "metadata": {},
   "source": [
    "#### k = 4"
   ]
  },
  {
   "cell_type": "code",
   "execution_count": 71,
   "metadata": {},
   "outputs": [
    {
     "name": "stdout",
     "output_type": "stream",
     "text": [
      "Error =  [1.73865103]\n"
     ]
    }
   ],
   "source": [
    "y1_pred, y2_pred = KNN(X_train, X_test, Y1_train, Y2_train,4)\n",
    "\n",
    "lenght = list(range(0,len(X_test)))\n",
    "x_vec_0 = []\n",
    "for i in lenght:\n",
    "    x = error(y1_pred,Y1_test,y2_pred,Y2_test)\n",
    "    x_vec_0.append(x)    \n",
    "average_0 = Average(x_vec_0)\n",
    "print('Error = ', average_0)"
   ]
  },
  {
   "cell_type": "markdown",
   "metadata": {},
   "source": [
    "##### Find Best k Parameter"
   ]
  },
  {
   "cell_type": "code",
   "execution_count": 72,
   "metadata": {},
   "outputs": [
    {
     "name": "stdout",
     "output_type": "stream",
     "text": [
      "k = 1    MSE =  2.6005088716416314\n",
      "k = 2    MSE =  2.140007154533388\n",
      "k = 3    MSE =  1.7263165742384132\n",
      "k = 4    MSE =  1.73865103244403\n",
      "k = 5    MSE =  1.7209429931011442\n",
      "Best k for Zigbee =  5\n"
     ]
    }
   ],
   "source": [
    "av = []\n",
    "# create vector for N Estimators\n",
    "k_vec = [1,2,3,4,5]\n",
    "for i in k_vec:\n",
    "    y1_pred, y2_pred = KNN(X_train, X_test, Y1_train, Y2_train,i)\n",
    "    ave = geterror(y1_pred,Y1_test,y2_pred,Y2_test)\n",
    "    print('k =', i, \"   MSE = \", ave)\n",
    "    av.append(ave)\n",
    "print(\"Best k for Zigbee = \", k_vec[av.index(min(av))])"
   ]
  },
  {
   "cell_type": "markdown",
   "metadata": {},
   "source": [
    "### WiFi Technology"
   ]
  },
  {
   "cell_type": "code",
   "execution_count": 73,
   "metadata": {},
   "outputs": [],
   "source": [
    "X_train, X_test, Y1_train, Y2_train, Y1_test, Y2_test = separateData(WiFi_dataset,WiFi_testset)"
   ]
  },
  {
   "cell_type": "markdown",
   "metadata": {},
   "source": [
    "#### k = 4"
   ]
  },
  {
   "cell_type": "code",
   "execution_count": 74,
   "metadata": {},
   "outputs": [
    {
     "name": "stdout",
     "output_type": "stream",
     "text": [
      "Error =  [1.59760742]\n"
     ]
    }
   ],
   "source": [
    "y1_pred, y2_pred = KNN(X_train, X_test, Y1_train, Y2_train,4)\n",
    "\n",
    "lenght = list(range(0,len(X_test)))\n",
    "x_vec_0 = []\n",
    "for i in lenght:\n",
    "    x = error(y1_pred,Y1_test,y2_pred,Y2_test)\n",
    "    x_vec_0.append(x)    \n",
    "average_0 = Average(x_vec_0)\n",
    "print('Error = ', average_0)"
   ]
  },
  {
   "cell_type": "markdown",
   "metadata": {},
   "source": [
    "##### Find Best k Parameter"
   ]
  },
  {
   "cell_type": "code",
   "execution_count": 75,
   "metadata": {},
   "outputs": [
    {
     "name": "stdout",
     "output_type": "stream",
     "text": [
      "k = 1    MSE =  2.2826666027516644\n",
      "k = 2    MSE =  1.5051548007286897\n",
      "k = 3    MSE =  1.446253948865269\n",
      "k = 4    MSE =  1.597607419500542\n",
      "k = 5    MSE =  1.6269257564433162\n",
      "Best k for WiFi =  3\n"
     ]
    }
   ],
   "source": [
    "av = []\n",
    "# create vector for N Estimators\n",
    "k_vec = [1,2,3,4,5]\n",
    "for i in k_vec:\n",
    "    y1_pred, y2_pred = KNN(X_train, X_test, Y1_train, Y2_train,i)\n",
    "    ave = geterror(y1_pred,Y1_test,y2_pred,Y2_test)\n",
    "    print('k =', i, \"   MSE = \", ave)\n",
    "    av.append(ave)\n",
    "print(\"Best k for WiFi = \", k_vec[av.index(min(av))])"
   ]
  },
  {
   "cell_type": "markdown",
   "metadata": {},
   "source": [
    "## Scenario 3"
   ]
  },
  {
   "cell_type": "code",
   "execution_count": 87,
   "metadata": {},
   "outputs": [],
   "source": [
    "#read dataset\n",
    "df_BLE = pd.read_csv('BLE_scenario3.csv')\n",
    "df_Zigbee = pd.read_csv('Zigbee_scenario3.csv')\n",
    "df_WiFi = pd.read_csv('WiFi_scenario3.csv')"
   ]
  },
  {
   "cell_type": "code",
   "execution_count": 88,
   "metadata": {},
   "outputs": [],
   "source": [
    "# TO SPLIT THE WHOLE DATASET INTO TRAINING DATASET AND TESTING DATASET\n",
    "from sklearn.model_selection import train_test_split\n",
    "BLE_dataset,BLE_testset = train_test_split(df_BLE, test_size = 0.2, train_size = 0.8, random_state=0)\n",
    "Zigbee_dataset,Zigbee_testset = train_test_split(df_Zigbee, test_size = 0.2, train_size = 0.8, random_state=0)\n",
    "WiFi_dataset,WiFi_testset = train_test_split(df_WiFi, test_size = 0.2, train_size = 0.8, random_state=0)"
   ]
  },
  {
   "cell_type": "markdown",
   "metadata": {},
   "source": [
    "### BLE Technology"
   ]
  },
  {
   "cell_type": "code",
   "execution_count": 89,
   "metadata": {},
   "outputs": [],
   "source": [
    "X_train, X_test, Y1_train, Y2_train, Y1_test, Y2_test = separateData(BLE_dataset,BLE_testset)"
   ]
  },
  {
   "cell_type": "markdown",
   "metadata": {},
   "source": [
    "#### k = 4"
   ]
  },
  {
   "cell_type": "code",
   "execution_count": 90,
   "metadata": {},
   "outputs": [
    {
     "name": "stdout",
     "output_type": "stream",
     "text": [
      "Error =  [1.5577144]\n"
     ]
    }
   ],
   "source": [
    "y1_pred, y2_pred = KNN(X_train, X_test, Y1_train, Y2_train,4)\n",
    "\n",
    "lenght = list(range(0,len(X_test)))\n",
    "x_vec_0 = []\n",
    "for i in lenght:\n",
    "    x = error(y1_pred,Y1_test,y2_pred,Y2_test)\n",
    "    x_vec_0.append(x)    \n",
    "average_0 = Average(x_vec_0)\n",
    "print('Error = ', average_0)"
   ]
  },
  {
   "cell_type": "markdown",
   "metadata": {},
   "source": [
    "##### Find Best k Parameter"
   ]
  },
  {
   "cell_type": "code",
   "execution_count": 92,
   "metadata": {},
   "outputs": [
    {
     "name": "stdout",
     "output_type": "stream",
     "text": [
      "k = 1    MSE =  2.8952556009354353\n",
      "k = 2    MSE =  1.9423635817424934\n",
      "k = 3    MSE =  1.5862934924784067\n",
      "k = 4    MSE =  1.5577144036027677\n",
      "k = 5    MSE =  1.5341501228450796\n",
      "Best k for BLE =  5\n"
     ]
    }
   ],
   "source": [
    "av = []\n",
    "# create vector for N Estimators\n",
    "k_vec = [1,2,3,4,5]\n",
    "for i in k_vec:\n",
    "    y1_pred, y2_pred = KNN(X_train, X_test, Y1_train, Y2_train,i)\n",
    "    ave = geterror(y1_pred,Y1_test,y2_pred,Y2_test)\n",
    "    print('k =', i, \"   MSE = \", ave)\n",
    "    av.append(ave)\n",
    "print(\"Best k for BLE = \", k_vec[av.index(min(av))])"
   ]
  },
  {
   "cell_type": "markdown",
   "metadata": {},
   "source": [
    "### Zigbee Technology"
   ]
  },
  {
   "cell_type": "code",
   "execution_count": 81,
   "metadata": {},
   "outputs": [],
   "source": [
    "X_train, X_test, Y1_train, Y2_train, Y1_test, Y2_test = separateData(Zigbee_dataset,Zigbee_testset)"
   ]
  },
  {
   "cell_type": "markdown",
   "metadata": {},
   "source": [
    "#### k = 4"
   ]
  },
  {
   "cell_type": "code",
   "execution_count": 82,
   "metadata": {},
   "outputs": [
    {
     "name": "stdout",
     "output_type": "stream",
     "text": [
      "Error =  [2.20676423]\n"
     ]
    }
   ],
   "source": [
    "y1_pred, y2_pred = KNN(X_train, X_test, Y1_train, Y2_train,4)\n",
    "\n",
    "lenght = list(range(0,len(X_test)))\n",
    "x_vec_0 = []\n",
    "for i in lenght:\n",
    "    x = error(y1_pred,Y1_test,y2_pred,Y2_test)\n",
    "    x_vec_0.append(x)    \n",
    "average_0 = Average(x_vec_0)\n",
    "print('Error = ', average_0)"
   ]
  },
  {
   "cell_type": "markdown",
   "metadata": {},
   "source": [
    "##### Find Best k Parameter"
   ]
  },
  {
   "cell_type": "code",
   "execution_count": 83,
   "metadata": {},
   "outputs": [
    {
     "name": "stdout",
     "output_type": "stream",
     "text": [
      "k = 1    MSE =  2.9705668409337638\n",
      "k = 2    MSE =  2.3997841985006567\n",
      "k = 3    MSE =  2.266114760681124\n",
      "k = 4    MSE =  2.2067642301838784\n",
      "k = 5    MSE =  2.1185167571990857\n",
      "Best k for Zigbee =  5\n"
     ]
    }
   ],
   "source": [
    "av = []\n",
    "# create vector for N Estimators\n",
    "k_vec = [1,2,3,4,5]\n",
    "for i in k_vec:\n",
    "    y1_pred, y2_pred = KNN(X_train, X_test, Y1_train, Y2_train,i)\n",
    "    ave = geterror(y1_pred,Y1_test,y2_pred,Y2_test)\n",
    "    print('k =', i, \"   MSE = \", ave)\n",
    "    av.append(ave)\n",
    "print(\"Best k for Zigbee = \", k_vec[av.index(min(av))])"
   ]
  },
  {
   "cell_type": "markdown",
   "metadata": {},
   "source": [
    "### WiFi Technology"
   ]
  },
  {
   "cell_type": "code",
   "execution_count": 84,
   "metadata": {},
   "outputs": [],
   "source": [
    "X_train, X_test, Y1_train, Y2_train, Y1_test, Y2_test = separateData(WiFi_dataset,WiFi_testset)"
   ]
  },
  {
   "cell_type": "markdown",
   "metadata": {},
   "source": [
    "#### k = 4"
   ]
  },
  {
   "cell_type": "code",
   "execution_count": 85,
   "metadata": {},
   "outputs": [
    {
     "name": "stdout",
     "output_type": "stream",
     "text": [
      "Error =  [1.21874865]\n"
     ]
    }
   ],
   "source": [
    "y1_pred, y2_pred = KNN(X_train, X_test, Y1_train, Y2_train,4)\n",
    "\n",
    "lenght = list(range(0,len(X_test)))\n",
    "x_vec_0 = []\n",
    "for i in lenght:\n",
    "    x = error(y1_pred,Y1_test,y2_pred,Y2_test)\n",
    "    x_vec_0.append(x)    \n",
    "average_0 = Average(x_vec_0)\n",
    "print('Error = ', average_0)"
   ]
  },
  {
   "cell_type": "markdown",
   "metadata": {},
   "source": [
    "##### Find Best k Parameter"
   ]
  },
  {
   "cell_type": "code",
   "execution_count": 86,
   "metadata": {},
   "outputs": [
    {
     "name": "stdout",
     "output_type": "stream",
     "text": [
      "k = 1    MSE =  1.4470585586963665\n",
      "k = 2    MSE =  1.470316036309075\n",
      "k = 3    MSE =  1.2851353232700216\n",
      "k = 4    MSE =  1.218748653388982\n",
      "k = 5    MSE =  1.1075627971288533\n",
      "Best k for WiFi =  5\n"
     ]
    }
   ],
   "source": [
    "av = []\n",
    "# create vector for N Estimators\n",
    "k_vec = [1,2,3,4,5]\n",
    "for i in k_vec:\n",
    "    y1_pred, y2_pred = KNN(X_train, X_test, Y1_train, Y2_train,i)\n",
    "    ave = geterror(y1_pred,Y1_test,y2_pred,Y2_test)\n",
    "    print('k =', i, \"   MSE = \", ave)\n",
    "    av.append(ave)\n",
    "print(\"Best k for WiFi = \", k_vec[av.index(min(av))])"
   ]
  },
  {
   "cell_type": "markdown",
   "metadata": {},
   "source": [
    " \n",
    " \n",
    " \n",
    " "
   ]
  },
  {
   "cell_type": "markdown",
   "metadata": {},
   "source": [
    "# Summary"
   ]
  },
  {
   "cell_type": "markdown",
   "metadata": {},
   "source": [
    "<img src=\"KNN_.jpg\"/>"
   ]
  },
  {
   "cell_type": "markdown",
   "metadata": {},
   "source": [
    "For scenario 1, the parameter with the lowest error for all technologies is k = 5. \n",
    "For scenario 2, the parameter with the lowest error for all technologies is k = 4. \n",
    "For scenario 3, the parameter with the lowest error for all technologies is k = 5. \n",
    "\n",
    "KNN with k = 5 produced calculations with the greatest overall accuracy for all scenarios and wireless technologies.\n",
    "Overall, the KNN method deviated off from the original receiver position of 1.665092 meters."
   ]
  }
 ],
 "metadata": {
  "kernelspec": {
   "display_name": "Python 3",
   "language": "python",
   "name": "python3"
  },
  "language_info": {
   "codemirror_mode": {
    "name": "ipython",
    "version": 3
   },
   "file_extension": ".py",
   "mimetype": "text/x-python",
   "name": "python",
   "nbconvert_exporter": "python",
   "pygments_lexer": "ipython3",
   "version": "3.7.6"
  }
 },
 "nbformat": 4,
 "nbformat_minor": 4
}
